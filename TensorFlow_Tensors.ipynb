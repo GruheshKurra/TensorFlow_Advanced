{
  "nbformat": 4,
  "nbformat_minor": 0,
  "metadata": {
    "colab": {
      "provenance": [],
      "include_colab_link": true
    },
    "kernelspec": {
      "name": "python3",
      "display_name": "Python 3"
    },
    "language_info": {
      "name": "python"
    }
  },
  "cells": [
    {
      "cell_type": "markdown",
      "metadata": {
        "id": "view-in-github",
        "colab_type": "text"
      },
      "source": [
        "<a href=\"https://colab.research.google.com/github/GruheshKurra/TensorFlow_Advanced/blob/main/TensorFlow_Tensors.ipynb\" target=\"_parent\"><img src=\"https://colab.research.google.com/assets/colab-badge.svg\" alt=\"Open In Colab\"/></a>"
      ]
    },
    {
      "cell_type": "code",
      "source": [
        "import tensorflow as tf\n",
        "import numpy as np"
      ],
      "metadata": {
        "id": "s8eWaR7m4XFz"
      },
      "execution_count": 270,
      "outputs": []
    },
    {
      "cell_type": "code",
      "source": [
        "tf.random.set_seed(5)\n",
        "print(tf.random.uniform(shape=[3,], maxval=5, dtype=tf.int32, seed=10))\n",
        "print(tf.random.uniform(shape=[3,], maxval=5, dtype=tf.int32, seed=10))\n",
        "print(tf.random.uniform(shape=[3,], maxval=5, dtype=tf.int32, seed=10))\n",
        "print(tf.random.uniform(shape=[3,], maxval=5, dtype=tf.int32, seed=10))"
      ],
      "metadata": {
        "colab": {
          "base_uri": "https://localhost:8080/"
        },
        "id": "mg9Lcf7XjI12",
        "outputId": "c4d3f6cb-5473-42ff-cedf-19c4e3e61b0f"
      },
      "execution_count": 271,
      "outputs": [
        {
          "output_type": "stream",
          "name": "stdout",
          "text": [
            "tf.Tensor([4 3 1], shape=(3,), dtype=int32)\n",
            "tf.Tensor([4 3 2], shape=(3,), dtype=int32)\n",
            "tf.Tensor([1 1 1], shape=(3,), dtype=int32)\n",
            "tf.Tensor([1 3 3], shape=(3,), dtype=int32)\n"
          ]
        }
      ]
    },
    {
      "cell_type": "code",
      "source": [
        "tf.random.set_seed(5)\n",
        "print(tf.random.uniform(shape=[3,], maxval=5, dtype=tf.int32, seed=10))\n",
        "print(tf.random.uniform(shape=[3,], maxval=5, dtype=tf.int32, seed=10))\n",
        "print(tf.random.uniform(shape=[3,], maxval=5, dtype=tf.int32, seed=10))\n",
        "print(tf.random.uniform(shape=[3,], maxval=5, dtype=tf.int32, seed=10))"
      ],
      "metadata": {
        "colab": {
          "base_uri": "https://localhost:8080/"
        },
        "id": "s5Iql2JxkGd8",
        "outputId": "997f7560-7659-4e1a-ff58-2c59e9645eef"
      },
      "execution_count": 272,
      "outputs": [
        {
          "output_type": "stream",
          "name": "stdout",
          "text": [
            "tf.Tensor([4 3 1], shape=(3,), dtype=int32)\n",
            "tf.Tensor([4 3 2], shape=(3,), dtype=int32)\n",
            "tf.Tensor([1 1 1], shape=(3,), dtype=int32)\n",
            "tf.Tensor([1 3 3], shape=(3,), dtype=int32)\n"
          ]
        }
      ]
    },
    {
      "cell_type": "code",
      "source": [
        "tensor_zero_d = tf.constant(4)\n",
        "print(tensor_zero_d)"
      ],
      "metadata": {
        "id": "H1LP5m-J4Xls",
        "colab": {
          "base_uri": "https://localhost:8080/"
        },
        "outputId": "1ddc01fd-45ff-47a8-8fab-c38eb0ffbcea"
      },
      "execution_count": 273,
      "outputs": [
        {
          "output_type": "stream",
          "name": "stdout",
          "text": [
            "tf.Tensor(4, shape=(), dtype=int32)\n"
          ]
        }
      ]
    },
    {
      "cell_type": "code",
      "source": [
        "tensor_bool = tf.constant([True,True,False])\n",
        "print(tensor_bool)"
      ],
      "metadata": {
        "colab": {
          "base_uri": "https://localhost:8080/"
        },
        "id": "ptbQqIrozkMa",
        "outputId": "a02e9c43-527e-4a23-8933-a6f131adfa6a"
      },
      "execution_count": 274,
      "outputs": [
        {
          "output_type": "stream",
          "name": "stdout",
          "text": [
            "tf.Tensor([ True  True False], shape=(3,), dtype=bool)\n"
          ]
        }
      ]
    },
    {
      "cell_type": "code",
      "source": [
        "tensor_string = tf.constant([\"hello world\",\"hi \"])\n",
        "print(tensor_string)"
      ],
      "metadata": {
        "colab": {
          "base_uri": "https://localhost:8080/"
        },
        "id": "zNIUJIR5zuiy",
        "outputId": "5ec6eb35-2f55-40d9-fa8b-5b2fa6dfb803"
      },
      "execution_count": 275,
      "outputs": [
        {
          "output_type": "stream",
          "name": "stdout",
          "text": [
            "tf.Tensor([b'hello world' b'hi '], shape=(2,), dtype=string)\n"
          ]
        }
      ]
    },
    {
      "cell_type": "code",
      "source": [
        "tensor_one_d = tf.constant([2,0.,-3,8,90],dtype=tf.float32)\n",
        "casted_tensor_one_d = tf.cast(tensor_one_d,dtype=tf.bool)\n",
        "print(tensor_one_d)\n",
        "print(casted_tensor_one_d)"
      ],
      "metadata": {
        "id": "Dl97XXSX4XoS",
        "colab": {
          "base_uri": "https://localhost:8080/"
        },
        "outputId": "161d3357-392c-4e59-94ab-272daf27a5c9"
      },
      "execution_count": 276,
      "outputs": [
        {
          "output_type": "stream",
          "name": "stdout",
          "text": [
            "tf.Tensor([ 2.  0. -3.  8. 90.], shape=(5,), dtype=float32)\n",
            "tf.Tensor([ True False  True  True  True], shape=(5,), dtype=bool)\n"
          ]
        }
      ]
    },
    {
      "cell_type": "code",
      "source": [
        "tensor_two_d = tf.constant([\n",
        "    [1,2,0],\n",
        "    [3,5,-1],\n",
        "    [1,5,6],\n",
        "    [2,3,8]\n",
        "])\n",
        "print(tensor_two_d)"
      ],
      "metadata": {
        "id": "m4Ra5DJ24Xqz",
        "colab": {
          "base_uri": "https://localhost:8080/"
        },
        "outputId": "4ec109a5-144a-41ae-ae08-4171163b50c5"
      },
      "execution_count": 277,
      "outputs": [
        {
          "output_type": "stream",
          "name": "stdout",
          "text": [
            "tf.Tensor(\n",
            "[[ 1  2  0]\n",
            " [ 3  5 -1]\n",
            " [ 1  5  6]\n",
            " [ 2  3  8]], shape=(4, 3), dtype=int32)\n"
          ]
        }
      ]
    },
    {
      "cell_type": "code",
      "source": [
        "tensor_three_d = tf.constant([\n",
        "    [[1,2,0],\n",
        "    [3,5,-1]],\n",
        "\n",
        "    [[10,2,0],\n",
        "    [1,0,2]],\n",
        "\n",
        "    [[5,8,0],\n",
        "    [2,7,0]],\n",
        "\n",
        "    [[2,1,9],\n",
        "    [4,-3,32]],\n",
        "\n",
        "])\n",
        "print(tensor_three_d)"
      ],
      "metadata": {
        "id": "BCQwZv1O4Xt1",
        "colab": {
          "base_uri": "https://localhost:8080/"
        },
        "outputId": "ae0638ea-286d-4aeb-bd92-6105db56799d"
      },
      "execution_count": 278,
      "outputs": [
        {
          "output_type": "stream",
          "name": "stdout",
          "text": [
            "tf.Tensor(\n",
            "[[[ 1  2  0]\n",
            "  [ 3  5 -1]]\n",
            "\n",
            " [[10  2  0]\n",
            "  [ 1  0  2]]\n",
            "\n",
            " [[ 5  8  0]\n",
            "  [ 2  7  0]]\n",
            "\n",
            " [[ 2  1  9]\n",
            "  [ 4 -3 32]]], shape=(4, 2, 3), dtype=int32)\n"
          ]
        }
      ]
    },
    {
      "cell_type": "code",
      "source": [
        "print(tensor_three_d.ndim)"
      ],
      "metadata": {
        "colab": {
          "base_uri": "https://localhost:8080/"
        },
        "id": "HTkCD89iesbL",
        "outputId": "1f2ee6a1-57a7-4058-d321-e3e1762916ed"
      },
      "execution_count": 279,
      "outputs": [
        {
          "output_type": "stream",
          "name": "stdout",
          "text": [
            "3\n"
          ]
        }
      ]
    },
    {
      "cell_type": "code",
      "source": [
        "print(tensor_three_d.shape)"
      ],
      "metadata": {
        "colab": {
          "base_uri": "https://localhost:8080/"
        },
        "id": "SG27BtaxkEBQ",
        "outputId": "55a29c86-2a5d-48f7-c6a6-5b8e0b2c7007"
      },
      "execution_count": 280,
      "outputs": [
        {
          "output_type": "stream",
          "name": "stdout",
          "text": [
            "(4, 2, 3)\n"
          ]
        }
      ]
    },
    {
      "cell_type": "code",
      "source": [
        "t = tf.constant([[1, 1, 1], [2, 2, 2]],)\n",
        "tf.size(t,out_type=tf.float32)"
      ],
      "metadata": {
        "colab": {
          "base_uri": "https://localhost:8080/"
        },
        "id": "zpt8qH1pS3Wv",
        "outputId": "8e688fcf-6b9a-4771-b9db-6c445cad5a09"
      },
      "execution_count": 281,
      "outputs": [
        {
          "output_type": "execute_result",
          "data": {
            "text/plain": [
              "<tf.Tensor: shape=(), dtype=float32, numpy=6.0>"
            ]
          },
          "metadata": {},
          "execution_count": 281
        }
      ]
    },
    {
      "cell_type": "code",
      "source": [
        "# shape of tensor 't' is [2, 2, 3]\n",
        "t = tf.constant([[1, 1, 1], [2, 2, 2]])\n",
        "tf.rank(t)  # 3"
      ],
      "metadata": {
        "colab": {
          "base_uri": "https://localhost:8080/"
        },
        "id": "c2byED-ESZgu",
        "outputId": "f0afee13-76e0-499b-ece9-009dd0ba397f"
      },
      "execution_count": 282,
      "outputs": [
        {
          "output_type": "execute_result",
          "data": {
            "text/plain": [
              "<tf.Tensor: shape=(), dtype=int32, numpy=2>"
            ]
          },
          "metadata": {},
          "execution_count": 282
        }
      ]
    },
    {
      "cell_type": "code",
      "source": [
        "print(tf.shape(tensor_three_d))"
      ],
      "metadata": {
        "colab": {
          "base_uri": "https://localhost:8080/"
        },
        "id": "DYmQ8-t7kED1",
        "outputId": "03fa1fa6-c999-4769-f8e6-f1d1584b3007"
      },
      "execution_count": 283,
      "outputs": [
        {
          "output_type": "stream",
          "name": "stdout",
          "text": [
            "tf.Tensor([4 2 3], shape=(3,), dtype=int32)\n"
          ]
        }
      ]
    },
    {
      "cell_type": "code",
      "source": [
        "tensor_four_d = tf.constant([\n",
        "\n",
        "[\n",
        "    [[1,2,0],\n",
        "    [3,5,-1]],\n",
        "\n",
        "    [[10,2,0],\n",
        "    [1,0,2]],\n",
        "\n",
        "    [[5,8,0],\n",
        "    [2,7,0]],\n",
        "\n",
        "    [[2,1,9],\n",
        "    [4,-3,32]],\n",
        "\n",
        "],\n",
        "\n",
        "[\n",
        "    [[13,26,0],\n",
        "    [3,5,-12]],\n",
        "\n",
        "    [[10,2,0],\n",
        "    [1,0,23]],\n",
        "\n",
        "    [[5,8,0],\n",
        "    [2,73,0]],\n",
        "\n",
        "    [[2,1,9],\n",
        "    [4,-30,32]],\n",
        "\n",
        "],\n",
        "\n",
        "[\n",
        "    [[103,26,0],\n",
        "    [3,50,-12]],\n",
        "\n",
        "    [[100,2,0],\n",
        "    [1,0,23]],\n",
        "\n",
        "    [[5,28,0],\n",
        "    [2,3,0]],\n",
        "\n",
        "    [[22,1,9],\n",
        "    [44,-320,32]],\n",
        "\n",
        "],\n",
        "\n",
        "])\n",
        "print(tensor_four_d)"
      ],
      "metadata": {
        "colab": {
          "base_uri": "https://localhost:8080/"
        },
        "id": "f1_2gwJxesd1",
        "outputId": "f50ba109-0c76-45bd-fb0d-ce39a5fc9227"
      },
      "execution_count": 284,
      "outputs": [
        {
          "output_type": "stream",
          "name": "stdout",
          "text": [
            "tf.Tensor(\n",
            "[[[[   1    2    0]\n",
            "   [   3    5   -1]]\n",
            "\n",
            "  [[  10    2    0]\n",
            "   [   1    0    2]]\n",
            "\n",
            "  [[   5    8    0]\n",
            "   [   2    7    0]]\n",
            "\n",
            "  [[   2    1    9]\n",
            "   [   4   -3   32]]]\n",
            "\n",
            "\n",
            " [[[  13   26    0]\n",
            "   [   3    5  -12]]\n",
            "\n",
            "  [[  10    2    0]\n",
            "   [   1    0   23]]\n",
            "\n",
            "  [[   5    8    0]\n",
            "   [   2   73    0]]\n",
            "\n",
            "  [[   2    1    9]\n",
            "   [   4  -30   32]]]\n",
            "\n",
            "\n",
            " [[[ 103   26    0]\n",
            "   [   3   50  -12]]\n",
            "\n",
            "  [[ 100    2    0]\n",
            "   [   1    0   23]]\n",
            "\n",
            "  [[   5   28    0]\n",
            "   [   2    3    0]]\n",
            "\n",
            "  [[  22    1    9]\n",
            "   [  44 -320   32]]]], shape=(3, 4, 2, 3), dtype=int32)\n"
          ]
        }
      ]
    },
    {
      "cell_type": "code",
      "source": [
        "import numpy as np"
      ],
      "metadata": {
        "id": "zemReLhTesgg"
      },
      "execution_count": 285,
      "outputs": []
    },
    {
      "cell_type": "code",
      "source": [
        "np_array = np.array([1,2,4])\n",
        "print(np_array)"
      ],
      "metadata": {
        "colab": {
          "base_uri": "https://localhost:8080/"
        },
        "id": "0L6D3yWGJc8N",
        "outputId": "d3383afc-29e3-4a4c-fac4-f1bc37d40e01"
      },
      "execution_count": 286,
      "outputs": [
        {
          "output_type": "stream",
          "name": "stdout",
          "text": [
            "[1 2 4]\n"
          ]
        }
      ]
    },
    {
      "cell_type": "code",
      "source": [
        "converted_tensor = tf.convert_to_tensor(np_array)\n",
        "print(converted_tensor)"
      ],
      "metadata": {
        "colab": {
          "base_uri": "https://localhost:8080/"
        },
        "id": "rJ-JQ7v1Jc_N",
        "outputId": "2c92d027-f97c-496d-b779-ffb1346a48c1"
      },
      "execution_count": 287,
      "outputs": [
        {
          "output_type": "stream",
          "name": "stdout",
          "text": [
            "tf.Tensor([1 2 4], shape=(3,), dtype=int64)\n"
          ]
        }
      ]
    },
    {
      "cell_type": "code",
      "source": [
        "eye_tensor = tf.eye(\n",
        "    num_rows=5,\n",
        "    num_columns=None,\n",
        "    batch_shape=[2,4],\n",
        "    dtype=tf.dtypes.float32,\n",
        "    name=None\n",
        ")\n",
        "print(eye_tensor)"
      ],
      "metadata": {
        "colab": {
          "base_uri": "https://localhost:8080/"
        },
        "id": "JG3RpavHJdCI",
        "outputId": "0669427c-cb5a-41a0-9060-3546bf1418ee"
      },
      "execution_count": 288,
      "outputs": [
        {
          "output_type": "stream",
          "name": "stdout",
          "text": [
            "tf.Tensor(\n",
            "[[[[1. 0. 0. 0. 0.]\n",
            "   [0. 1. 0. 0. 0.]\n",
            "   [0. 0. 1. 0. 0.]\n",
            "   [0. 0. 0. 1. 0.]\n",
            "   [0. 0. 0. 0. 1.]]\n",
            "\n",
            "  [[1. 0. 0. 0. 0.]\n",
            "   [0. 1. 0. 0. 0.]\n",
            "   [0. 0. 1. 0. 0.]\n",
            "   [0. 0. 0. 1. 0.]\n",
            "   [0. 0. 0. 0. 1.]]\n",
            "\n",
            "  [[1. 0. 0. 0. 0.]\n",
            "   [0. 1. 0. 0. 0.]\n",
            "   [0. 0. 1. 0. 0.]\n",
            "   [0. 0. 0. 1. 0.]\n",
            "   [0. 0. 0. 0. 1.]]\n",
            "\n",
            "  [[1. 0. 0. 0. 0.]\n",
            "   [0. 1. 0. 0. 0.]\n",
            "   [0. 0. 1. 0. 0.]\n",
            "   [0. 0. 0. 1. 0.]\n",
            "   [0. 0. 0. 0. 1.]]]\n",
            "\n",
            "\n",
            " [[[1. 0. 0. 0. 0.]\n",
            "   [0. 1. 0. 0. 0.]\n",
            "   [0. 0. 1. 0. 0.]\n",
            "   [0. 0. 0. 1. 0.]\n",
            "   [0. 0. 0. 0. 1.]]\n",
            "\n",
            "  [[1. 0. 0. 0. 0.]\n",
            "   [0. 1. 0. 0. 0.]\n",
            "   [0. 0. 1. 0. 0.]\n",
            "   [0. 0. 0. 1. 0.]\n",
            "   [0. 0. 0. 0. 1.]]\n",
            "\n",
            "  [[1. 0. 0. 0. 0.]\n",
            "   [0. 1. 0. 0. 0.]\n",
            "   [0. 0. 1. 0. 0.]\n",
            "   [0. 0. 0. 1. 0.]\n",
            "   [0. 0. 0. 0. 1.]]\n",
            "\n",
            "  [[1. 0. 0. 0. 0.]\n",
            "   [0. 1. 0. 0. 0.]\n",
            "   [0. 0. 1. 0. 0.]\n",
            "   [0. 0. 0. 1. 0.]\n",
            "   [0. 0. 0. 0. 1.]]]], shape=(2, 4, 5, 5), dtype=float32)\n"
          ]
        }
      ]
    },
    {
      "cell_type": "code",
      "source": [
        "fill_tensor = tf.fill(\n",
        "    [1,3,4],5, name=None\n",
        ")\n",
        "print(fill_tensor)"
      ],
      "metadata": {
        "colab": {
          "base_uri": "https://localhost:8080/"
        },
        "id": "3MWVijr7K86i",
        "outputId": "27f059a4-0737-4803-8ac5-368686ca4023"
      },
      "execution_count": 289,
      "outputs": [
        {
          "output_type": "stream",
          "name": "stdout",
          "text": [
            "tf.Tensor(\n",
            "[[[5 5 5 5]\n",
            "  [5 5 5 5]\n",
            "  [5 5 5 5]]], shape=(1, 3, 4), dtype=int32)\n"
          ]
        }
      ]
    },
    {
      "cell_type": "code",
      "source": [
        "zeros_tensor = tf.zeros(\n",
        "    [3,2],\n",
        "    dtype=tf.dtypes.float32,\n",
        "    name=None\n",
        ")\n",
        "print(zeros_tensor)"
      ],
      "metadata": {
        "colab": {
          "base_uri": "https://localhost:8080/"
        },
        "id": "0Fu4qRh8QNYi",
        "outputId": "30710bdf-ce3a-4d24-9dde-cc0f43114249"
      },
      "execution_count": 290,
      "outputs": [
        {
          "output_type": "stream",
          "name": "stdout",
          "text": [
            "tf.Tensor(\n",
            "[[0. 0.]\n",
            " [0. 0.]\n",
            " [0. 0.]], shape=(3, 2), dtype=float32)\n"
          ]
        }
      ]
    },
    {
      "cell_type": "code",
      "source": [
        "ones_tensor = tf.ones(\n",
        "    [3,2],\n",
        "    dtype=tf.dtypes.float32,\n",
        "    name=None\n",
        ")\n",
        "print(ones_tensor)"
      ],
      "metadata": {
        "colab": {
          "base_uri": "https://localhost:8080/"
        },
        "id": "fpK6gd6pK89P",
        "outputId": "dd328989-3b30-4013-80ed-135f65c19b85"
      },
      "execution_count": 291,
      "outputs": [
        {
          "output_type": "stream",
          "name": "stdout",
          "text": [
            "tf.Tensor(\n",
            "[[1. 1.]\n",
            " [1. 1.]\n",
            " [1. 1.]], shape=(3, 2), dtype=float32)\n"
          ]
        }
      ]
    },
    {
      "cell_type": "code",
      "source": [
        "ones_like_tensor = tf.ones_like(fill_tensor)\n",
        "print(ones_like_tensor)"
      ],
      "metadata": {
        "colab": {
          "base_uri": "https://localhost:8080/"
        },
        "id": "kJA6i52YPrh5",
        "outputId": "6f6d0302-e4db-49da-e5a4-066fe6f6bef2"
      },
      "execution_count": 292,
      "outputs": [
        {
          "output_type": "stream",
          "name": "stdout",
          "text": [
            "tf.Tensor(\n",
            "[[[1 1 1 1]\n",
            "  [1 1 1 1]\n",
            "  [1 1 1 1]]], shape=(1, 3, 4), dtype=int32)\n"
          ]
        }
      ]
    },
    {
      "cell_type": "code",
      "source": [
        "random_tensor = tf.random.normal(\n",
        "    [3,2],\n",
        "    mean=100.0,\n",
        "    stddev=1.0,\n",
        "    dtype=tf.dtypes.float32,\n",
        "    seed=None,\n",
        "    name=None\n",
        ")\n",
        "print(random_tensor)"
      ],
      "metadata": {
        "colab": {
          "base_uri": "https://localhost:8080/"
        },
        "id": "MSvWlCLce6oF",
        "outputId": "97e8dc50-de83-4470-deaf-a18851920e4f"
      },
      "execution_count": 293,
      "outputs": [
        {
          "output_type": "stream",
          "name": "stdout",
          "text": [
            "tf.Tensor(\n",
            "[[ 99.819695  99.04971 ]\n",
            " [ 99.96036   99.25746 ]\n",
            " [101.32315   99.381454]], shape=(3, 2), dtype=float32)\n"
          ]
        }
      ]
    },
    {
      "cell_type": "code",
      "source": [
        "random_tensor = tf.random.uniform(\n",
        "    [5,5],\n",
        "    minval=0,\n",
        "    maxval=1000,\n",
        "    dtype=tf.dtypes.int32,\n",
        "    seed=None,\n",
        "    name=None\n",
        ")\n",
        "print(random_tensor)"
      ],
      "metadata": {
        "colab": {
          "base_uri": "https://localhost:8080/"
        },
        "id": "eUPOFbrnk0Te",
        "outputId": "8b68bd1d-b2c4-48ac-de16-ed8c25c219c8"
      },
      "execution_count": 294,
      "outputs": [
        {
          "output_type": "stream",
          "name": "stdout",
          "text": [
            "tf.Tensor(\n",
            "[[597 764 960 558  70]\n",
            " [817 340 143 777 334]\n",
            " [632 429 283 664 894]\n",
            " [120 292 511 585 171]\n",
            " [601 294 650 406 833]], shape=(5, 5), dtype=int32)\n"
          ]
        }
      ]
    },
    {
      "cell_type": "code",
      "metadata": {
        "id": "v71qWRUBhjPq"
      },
      "source": [
        "import tensorflow as tf\n",
        "import numpy as np"
      ],
      "execution_count": 295,
      "outputs": []
    },
    {
      "cell_type": "code",
      "metadata": {
        "id": "rbPYPDNOKyVv",
        "colab": {
          "base_uri": "https://localhost:8080/"
        },
        "outputId": "aec1debb-e943-41ee-94f5-6da843c49302"
      },
      "source": [
        "tensor_zero_d = tf.constant(1)\n",
        "print(tensor_zero_d)"
      ],
      "execution_count": 296,
      "outputs": [
        {
          "output_type": "stream",
          "name": "stdout",
          "text": [
            "tf.Tensor(1, shape=(), dtype=int32)\n"
          ]
        }
      ]
    },
    {
      "cell_type": "code",
      "metadata": {
        "id": "MA3uCGX9Cdfp",
        "colab": {
          "base_uri": "https://localhost:8080/"
        },
        "outputId": "01070f6c-e266-4bec-aa93-f6cabc67ee53"
      },
      "source": [
        "tensor_one_d = tf.constant([3,0,3], dtype = tf.float32)\n",
        "print(tensor_one_d)\n",
        "\n",
        "casted_tensor_one_d = tf.cast(tensor_one_d, dtype = tf.uint16)\n",
        "print(casted_tensor_one_d)"
      ],
      "execution_count": 297,
      "outputs": [
        {
          "output_type": "stream",
          "name": "stdout",
          "text": [
            "tf.Tensor([3. 0. 3.], shape=(3,), dtype=float32)\n",
            "tf.Tensor([3 0 3], shape=(3,), dtype=uint16)\n"
          ]
        }
      ]
    },
    {
      "cell_type": "code",
      "metadata": {
        "colab": {
          "base_uri": "https://localhost:8080/"
        },
        "id": "ElZNIq8Xx1jR",
        "outputId": "e9cd992d-4f71-4a6f-8d7f-a401549c595d"
      },
      "source": [
        "tensor_two_d = tf.constant([[1,2,0],\n",
        "                            [3,5,-1],\n",
        "                            [1,5,6],\n",
        "                            [2,3,8]])\n",
        "print(tensor_two_d)"
      ],
      "execution_count": 298,
      "outputs": [
        {
          "output_type": "stream",
          "name": "stdout",
          "text": [
            "tf.Tensor(\n",
            "[[ 1  2  0]\n",
            " [ 3  5 -1]\n",
            " [ 1  5  6]\n",
            " [ 2  3  8]], shape=(4, 3), dtype=int32)\n"
          ]
        }
      ]
    },
    {
      "cell_type": "code",
      "metadata": {
        "colab": {
          "base_uri": "https://localhost:8080/"
        },
        "id": "JZoN_HVc0lpH",
        "outputId": "9fd9bd1d-d62f-4484-c996-29d76a171995"
      },
      "source": [
        "tensor_three_d = tf.constant([[[1,2,0],\n",
        "                             [3,5,-1]],\n",
        "\n",
        "                            [[10,2,0],\n",
        "                             [1,0,2]],\n",
        "\n",
        "                            [[5,8,0],\n",
        "                             [2,7,0]],\n",
        "\n",
        "                            [[2,1,9],\n",
        "                             [4,-3,32]]])\n",
        "print(tensor_three_d.ndim)"
      ],
      "execution_count": 299,
      "outputs": [
        {
          "output_type": "stream",
          "name": "stdout",
          "text": [
            "3\n"
          ]
        }
      ]
    },
    {
      "cell_type": "code",
      "metadata": {
        "colab": {
          "base_uri": "https://localhost:8080/"
        },
        "id": "zWhaobDo1aSc",
        "outputId": "7214d7df-54dd-4fd1-a7f3-1f7dce6e16a3"
      },
      "source": [
        "tensor_four_d = tf.constant([[[[1,2,0],\n",
        "                             [3,5,-1]],\n",
        "\n",
        "                            [[10,2,0],\n",
        "                             [1,0,2]],\n",
        "\n",
        "                            [[5,8,0],\n",
        "                             [2,7,0]],\n",
        "\n",
        "                            [[2,1,9],\n",
        "                             [4,-3,32]]],\n",
        "\n",
        "\n",
        "\n",
        "                             [[[0,2,5],\n",
        "                             [5,3,1]],\n",
        "\n",
        "                            [[0,2,0],\n",
        "                             [-1,10,0]],\n",
        "\n",
        "                            [[0,5,1],\n",
        "                             [1,7,0]],\n",
        "\n",
        "                            [[3,8,7],\n",
        "                             [2,3,2]]],\n",
        "\n",
        "\n",
        "\n",
        "                             [[[4,5,4],\n",
        "                             [3,1,1]],\n",
        "\n",
        "                            [[0,2,5],\n",
        "                             [0,4,3]],\n",
        "\n",
        "                            [[3,2,4],\n",
        "                             [5,8,3]],\n",
        "\n",
        "                            [[8,2,5],\n",
        "                             [2,3,3]]]])\n",
        "print(tensor_four_d)"
      ],
      "execution_count": 300,
      "outputs": [
        {
          "output_type": "stream",
          "name": "stdout",
          "text": [
            "tf.Tensor(\n",
            "[[[[ 1  2  0]\n",
            "   [ 3  5 -1]]\n",
            "\n",
            "  [[10  2  0]\n",
            "   [ 1  0  2]]\n",
            "\n",
            "  [[ 5  8  0]\n",
            "   [ 2  7  0]]\n",
            "\n",
            "  [[ 2  1  9]\n",
            "   [ 4 -3 32]]]\n",
            "\n",
            "\n",
            " [[[ 0  2  5]\n",
            "   [ 5  3  1]]\n",
            "\n",
            "  [[ 0  2  0]\n",
            "   [-1 10  0]]\n",
            "\n",
            "  [[ 0  5  1]\n",
            "   [ 1  7  0]]\n",
            "\n",
            "  [[ 3  8  7]\n",
            "   [ 2  3  2]]]\n",
            "\n",
            "\n",
            " [[[ 4  5  4]\n",
            "   [ 3  1  1]]\n",
            "\n",
            "  [[ 0  2  5]\n",
            "   [ 0  4  3]]\n",
            "\n",
            "  [[ 3  2  4]\n",
            "   [ 5  8  3]]\n",
            "\n",
            "  [[ 8  2  5]\n",
            "   [ 2  3  3]]]], shape=(3, 4, 2, 3), dtype=int32)\n"
          ]
        }
      ]
    },
    {
      "cell_type": "code",
      "metadata": {
        "colab": {
          "base_uri": "https://localhost:8080/"
        },
        "id": "HY_0VPiF4vuD",
        "outputId": "6a866981-b112-4916-e1cd-6f2ab7e6eaec"
      },
      "source": [
        "x = tf.constant(1, shape= (4,4))\n",
        "print(x)"
      ],
      "execution_count": 301,
      "outputs": [
        {
          "output_type": "stream",
          "name": "stdout",
          "text": [
            "tf.Tensor(\n",
            "[[1 1 1 1]\n",
            " [1 1 1 1]\n",
            " [1 1 1 1]\n",
            " [1 1 1 1]], shape=(4, 4), dtype=int32)\n"
          ]
        }
      ]
    },
    {
      "cell_type": "code",
      "metadata": {
        "id": "G-z2Yc1aPajI",
        "colab": {
          "base_uri": "https://localhost:8080/"
        },
        "outputId": "47faf492-9017-44a2-839d-ba6f0354f73e"
      },
      "source": [
        "x_np = np.array([3,4,5])\n",
        "print(x_np)"
      ],
      "execution_count": 302,
      "outputs": [
        {
          "output_type": "stream",
          "name": "stdout",
          "text": [
            "[3 4 5]\n"
          ]
        }
      ]
    },
    {
      "cell_type": "code",
      "metadata": {
        "id": "gDupT3PFPhWP",
        "colab": {
          "base_uri": "https://localhost:8080/"
        },
        "outputId": "c79803c8-1818-4366-8563-4b67b622bd59"
      },
      "source": [
        "x_tf = tf.convert_to_tensor(x_np, dtype = tf.float16)\n",
        "print(x_tf)"
      ],
      "execution_count": 303,
      "outputs": [
        {
          "output_type": "stream",
          "name": "stdout",
          "text": [
            "tf.Tensor([3. 4. 5.], shape=(3,), dtype=float16)\n"
          ]
        }
      ]
    },
    {
      "cell_type": "code",
      "metadata": {
        "id": "XKhfdrmruVsU",
        "colab": {
          "base_uri": "https://localhost:8080/"
        },
        "outputId": "d5f3fd1e-eaf0-499e-ce55-07854a067965"
      },
      "source": [
        "identity_matrix = tf.eye(4, batch_shape=[2], dtype=tf.dtypes.float32, name=None)\n",
        "print(identity_matrix)"
      ],
      "execution_count": 304,
      "outputs": [
        {
          "output_type": "stream",
          "name": "stdout",
          "text": [
            "tf.Tensor(\n",
            "[[[1. 0. 0. 0.]\n",
            "  [0. 1. 0. 0.]\n",
            "  [0. 0. 1. 0.]\n",
            "  [0. 0. 0. 1.]]\n",
            "\n",
            " [[1. 0. 0. 0.]\n",
            "  [0. 1. 0. 0.]\n",
            "  [0. 0. 1. 0.]\n",
            "  [0. 0. 0. 1.]]], shape=(2, 4, 4), dtype=float32)\n"
          ]
        }
      ]
    },
    {
      "cell_type": "code",
      "metadata": {
        "id": "moc-0CGrvPSL",
        "colab": {
          "base_uri": "https://localhost:8080/"
        },
        "outputId": "a5834af7-2f0b-4603-9f1e-93535bfb5ccf"
      },
      "source": [
        "filled_tensor = tf.fill([4,3], 1., )\n",
        "print(filled_tensor)"
      ],
      "execution_count": 305,
      "outputs": [
        {
          "output_type": "stream",
          "name": "stdout",
          "text": [
            "tf.Tensor(\n",
            "[[1. 1. 1.]\n",
            " [1. 1. 1.]\n",
            " [1. 1. 1.]\n",
            " [1. 1. 1.]], shape=(4, 3), dtype=float32)\n"
          ]
        }
      ]
    },
    {
      "cell_type": "code",
      "metadata": {
        "id": "ylCnIrjGCEy2",
        "colab": {
          "base_uri": "https://localhost:8080/"
        },
        "outputId": "05948c05-8fff-4616-bbf4-77b99f5e2bb6"
      },
      "source": [
        "ones_tensor = tf.ones([4,3], dtype = tf.float32)\n",
        "print(ones_tensor)"
      ],
      "execution_count": 306,
      "outputs": [
        {
          "output_type": "stream",
          "name": "stdout",
          "text": [
            "tf.Tensor(\n",
            "[[1. 1. 1.]\n",
            " [1. 1. 1.]\n",
            " [1. 1. 1.]\n",
            " [1. 1. 1.]], shape=(4, 3), dtype=float32)\n"
          ]
        }
      ]
    },
    {
      "cell_type": "code",
      "metadata": {
        "id": "aVwcraruC7GM",
        "colab": {
          "base_uri": "https://localhost:8080/"
        },
        "outputId": "18d01425-2a4e-476e-8d15-f90017435f0e"
      },
      "source": [
        "zeros_tensor = tf.zeros([4,3], dtype = tf.float32)\n",
        "print(zeros_tensor)"
      ],
      "execution_count": 307,
      "outputs": [
        {
          "output_type": "stream",
          "name": "stdout",
          "text": [
            "tf.Tensor(\n",
            "[[0. 0. 0.]\n",
            " [0. 0. 0.]\n",
            " [0. 0. 0.]\n",
            " [0. 0. 0.]], shape=(4, 3), dtype=float32)\n"
          ]
        }
      ]
    },
    {
      "cell_type": "code",
      "metadata": {
        "colab": {
          "base_uri": "https://localhost:8080/"
        },
        "id": "vacUubrjRd-X",
        "outputId": "9b4e4b63-4c46-42f1-ff37-2c53b575b21b"
      },
      "source": [
        "ones_like_tensor = tf.ones_like(tensor_four_d)\n",
        "print(ones_like_tensor)\n",
        "print(tensor_four_d.shape)"
      ],
      "execution_count": 308,
      "outputs": [
        {
          "output_type": "stream",
          "name": "stdout",
          "text": [
            "tf.Tensor(\n",
            "[[[[1 1 1]\n",
            "   [1 1 1]]\n",
            "\n",
            "  [[1 1 1]\n",
            "   [1 1 1]]\n",
            "\n",
            "  [[1 1 1]\n",
            "   [1 1 1]]\n",
            "\n",
            "  [[1 1 1]\n",
            "   [1 1 1]]]\n",
            "\n",
            "\n",
            " [[[1 1 1]\n",
            "   [1 1 1]]\n",
            "\n",
            "  [[1 1 1]\n",
            "   [1 1 1]]\n",
            "\n",
            "  [[1 1 1]\n",
            "   [1 1 1]]\n",
            "\n",
            "  [[1 1 1]\n",
            "   [1 1 1]]]\n",
            "\n",
            "\n",
            " [[[1 1 1]\n",
            "   [1 1 1]]\n",
            "\n",
            "  [[1 1 1]\n",
            "   [1 1 1]]\n",
            "\n",
            "  [[1 1 1]\n",
            "   [1 1 1]]\n",
            "\n",
            "  [[1 1 1]\n",
            "   [1 1 1]]]], shape=(3, 4, 2, 3), dtype=int32)\n",
            "(3, 4, 2, 3)\n"
          ]
        }
      ]
    },
    {
      "cell_type": "code",
      "metadata": {
        "id": "tOXsSjoeRz1F"
      },
      "source": [
        "normal_tensor = tf.random_normal_initializer(\n",
        "    mean=0.0, stddev=0.05, seed=None\n",
        ")"
      ],
      "execution_count": 309,
      "outputs": []
    },
    {
      "cell_type": "code",
      "metadata": {
        "colab": {
          "base_uri": "https://localhost:8080/"
        },
        "id": "mUD-dGU9R0SH",
        "outputId": "3b2960f5-3d04-42a7-d52c-7334b1f48504"
      },
      "source": [
        "print(normal_tensor)"
      ],
      "execution_count": 310,
      "outputs": [
        {
          "output_type": "stream",
          "name": "stdout",
          "text": [
            "<tensorflow.python.ops.init_ops_v2.RandomNormal object at 0x7bb943abf460>\n"
          ]
        }
      ]
    },
    {
      "cell_type": "code",
      "metadata": {
        "colab": {
          "base_uri": "https://localhost:8080/"
        },
        "id": "LvBS6T2RUQe4",
        "outputId": "9a11faff-b0a3-4910-9adb-6212d37c0cb3"
      },
      "source": [
        "range_tensor = tf.range(start = 2, limit = 10, delta = 3)\n",
        "print(range_tensor)"
      ],
      "execution_count": 311,
      "outputs": [
        {
          "output_type": "stream",
          "name": "stdout",
          "text": [
            "tf.Tensor([2 5 8], shape=(3,), dtype=int32)\n"
          ]
        }
      ]
    },
    {
      "cell_type": "code",
      "metadata": {
        "id": "ejHU8A2LR0fz"
      },
      "source": [],
      "execution_count": 311,
      "outputs": []
    },
    {
      "cell_type": "code",
      "metadata": {
        "colab": {
          "base_uri": "https://localhost:8080/"
        },
        "id": "lvHLbzztR0mq",
        "outputId": "2bba31a8-57d3-48e3-e98e-cef19cbf2f31"
      },
      "source": [
        "print(tf.shape(tensor_three_d,))\n",
        "print(tensor_three_d.shape)"
      ],
      "execution_count": 312,
      "outputs": [
        {
          "output_type": "stream",
          "name": "stdout",
          "text": [
            "tf.Tensor([4 2 3], shape=(3,), dtype=int32)\n",
            "(4, 2, 3)\n"
          ]
        }
      ]
    },
    {
      "cell_type": "code",
      "source": [],
      "metadata": {
        "id": "IOkFlTRt4WLd"
      },
      "execution_count": 312,
      "outputs": []
    },
    {
      "cell_type": "code",
      "metadata": {
        "colab": {
          "base_uri": "https://localhost:8080/"
        },
        "id": "y1kmyitzR0o_",
        "outputId": "b4e6c4d6-6ef0-48bb-81a4-d9b232ae5f34"
      },
      "source": [
        "print(tf.size(tensor_four_d))"
      ],
      "execution_count": 313,
      "outputs": [
        {
          "output_type": "stream",
          "name": "stdout",
          "text": [
            "tf.Tensor(72, shape=(), dtype=int32)\n"
          ]
        }
      ]
    },
    {
      "cell_type": "code",
      "metadata": {
        "id": "eXaOYjteR0rg",
        "colab": {
          "base_uri": "https://localhost:8080/"
        },
        "outputId": "e3f9e641-3070-4c58-baf2-d53eecb4f15a"
      },
      "source": [
        "g = tf.random.Generator.from_non_deterministic_state()\n",
        "g.normal(shape=(2,), mean = 100, stddev = 1)"
      ],
      "execution_count": 314,
      "outputs": [
        {
          "output_type": "execute_result",
          "data": {
            "text/plain": [
              "<tf.Tensor: shape=(2,), dtype=float32, numpy=array([101.118454,  99.869705], dtype=float32)>"
            ]
          },
          "metadata": {},
          "execution_count": 314
        }
      ]
    },
    {
      "cell_type": "code",
      "metadata": {
        "id": "voN_Sa1dYhVt",
        "colab": {
          "base_uri": "https://localhost:8080/"
        },
        "outputId": "370cb018-0570-4a29-e9e7-f7763d7f5262"
      },
      "source": [
        "g = tf.random.Generator.from_non_deterministic_state()\n",
        "g.uniform(shape=(2,), minval = 25, maxval = 40)"
      ],
      "execution_count": 315,
      "outputs": [
        {
          "output_type": "execute_result",
          "data": {
            "text/plain": [
              "<tf.Tensor: shape=(2,), dtype=float32, numpy=array([27.235392, 32.366035], dtype=float32)>"
            ]
          },
          "metadata": {},
          "execution_count": 315
        }
      ]
    },
    {
      "cell_type": "code",
      "metadata": {
        "id": "e1wmfNLybAfE",
        "colab": {
          "base_uri": "https://localhost:8080/"
        },
        "outputId": "46f9e86d-a98a-45c4-a53c-0844095c0bd0"
      },
      "source": [
        "tf.random.normal(\n",
        "    (3,), mean=0.0, stddev=100.0, dtype=tf.dtypes.float32, seed=12, name=\"Random Number with Normal distribution\"\n",
        ")"
      ],
      "execution_count": 316,
      "outputs": [
        {
          "output_type": "execute_result",
          "data": {
            "text/plain": [
              "<tf.Tensor: shape=(3,), dtype=float32, numpy=array([12.151812,  9.970952, 69.518616], dtype=float32)>"
            ]
          },
          "metadata": {},
          "execution_count": 316
        }
      ]
    },
    {
      "cell_type": "code",
      "metadata": {
        "colab": {
          "base_uri": "https://localhost:8080/"
        },
        "id": "bZ_hQJkbAr9T",
        "outputId": "a0412f57-1622-4efa-a44d-f31ace3fbf57"
      },
      "source": [
        "tf.random.uniform(\n",
        "    (2,), minval=0, maxval=100, dtype=tf.dtypes.float32, seed=None, name=None\n",
        ")"
      ],
      "execution_count": 317,
      "outputs": [
        {
          "output_type": "execute_result",
          "data": {
            "text/plain": [
              "<tf.Tensor: shape=(2,), dtype=float32, numpy=array([20.179546, 34.707115], dtype=float32)>"
            ]
          },
          "metadata": {},
          "execution_count": 317
        }
      ]
    },
    {
      "cell_type": "code",
      "metadata": {
        "colab": {
          "base_uri": "https://localhost:8080/"
        },
        "id": "vh-eXdHQMHl9",
        "outputId": "3024723b-fa37-4b81-a034-45e6facbad54"
      },
      "source": [
        "tensor_indexed = tf.constant([3,6,2,4,6,66,7])\n",
        "print(tensor_indexed[:])\n",
        "print(tensor_indexed[0:4])\n",
        "print(tensor_indexed[3:-3])"
      ],
      "execution_count": 318,
      "outputs": [
        {
          "output_type": "stream",
          "name": "stdout",
          "text": [
            "tf.Tensor([ 3  6  2  4  6 66  7], shape=(7,), dtype=int32)\n",
            "tf.Tensor([3 6 2 4], shape=(4,), dtype=int32)\n",
            "tf.Tensor([4], shape=(1,), dtype=int32)\n"
          ]
        }
      ]
    },
    {
      "cell_type": "code",
      "metadata": {
        "colab": {
          "base_uri": "https://localhost:8080/"
        },
        "id": "212nNIo1Y0gb",
        "outputId": "381d768d-1ae6-43f8-dbe1-db92913196bc"
      },
      "source": [
        "tensor_two_d = tf.constant([[1,2,0],\n",
        "                            [3,5,-1],\n",
        "                            [1,5,6],\n",
        "                            [2,3,8]])\n",
        "print(tensor_two_d[...,1])"
      ],
      "execution_count": 319,
      "outputs": [
        {
          "output_type": "stream",
          "name": "stdout",
          "text": [
            "tf.Tensor([2 5 5 3], shape=(4,), dtype=int32)\n"
          ]
        }
      ]
    },
    {
      "cell_type": "code",
      "metadata": {
        "colab": {
          "base_uri": "https://localhost:8080/"
        },
        "id": "YRc4Zgl4Y9z3",
        "outputId": "786370e7-7693-4d80-8aa2-5f6fc4f3cf68"
      },
      "source": [
        "tensor_three_d = tf.constant([\n",
        "\n",
        "\n",
        "                              [[1,2,0],\n",
        "                               [3,5,-1]],\n",
        "\n",
        "                              [[10,2,0],\n",
        "                               [1,0,2]],\n",
        "\n",
        "                              [[5,8,0],\n",
        "                               [2,7,0]],\n",
        "\n",
        "                              [[2,1,9],\n",
        "                               [4,-3,32]]\n",
        "\n",
        "\n",
        "                              ])\n",
        "\n",
        "print(tensor_three_d[ ... , : , 2])"
      ],
      "execution_count": 320,
      "outputs": [
        {
          "output_type": "stream",
          "name": "stdout",
          "text": [
            "tf.Tensor(\n",
            "[[ 0 -1]\n",
            " [ 0  2]\n",
            " [ 0  0]\n",
            " [ 9 32]], shape=(4, 2), dtype=int32)\n"
          ]
        }
      ]
    },
    {
      "cell_type": "code",
      "source": [
        "print(tf.expand_dims(tensor_three_d[ ... , : , 2],-1))"
      ],
      "metadata": {
        "colab": {
          "base_uri": "https://localhost:8080/"
        },
        "id": "ReoN7RlXhHkA",
        "outputId": "9f604210-2e09-4391-e25a-b83bb659de8c"
      },
      "execution_count": 321,
      "outputs": [
        {
          "output_type": "stream",
          "name": "stdout",
          "text": [
            "tf.Tensor(\n",
            "[[[ 0]\n",
            "  [-1]]\n",
            "\n",
            " [[ 0]\n",
            "  [ 2]]\n",
            "\n",
            " [[ 0]\n",
            "  [ 0]]\n",
            "\n",
            " [[ 9]\n",
            "  [32]]], shape=(4, 2, 1), dtype=int32)\n"
          ]
        }
      ]
    },
    {
      "cell_type": "code",
      "metadata": {
        "id": "idTAaYyJi-RL",
        "colab": {
          "base_uri": "https://localhost:8080/"
        },
        "outputId": "0d418bdd-ad82-412b-9bde-c6e355e15a69"
      },
      "source": [
        "x_abs = tf.constant([-2.25, 3.25])\n",
        "tf.abs(x_abs)"
      ],
      "execution_count": 322,
      "outputs": [
        {
          "output_type": "execute_result",
          "data": {
            "text/plain": [
              "<tf.Tensor: shape=(2,), dtype=float32, numpy=array([2.25, 3.25], dtype=float32)>"
            ]
          },
          "metadata": {},
          "execution_count": 322
        }
      ]
    },
    {
      "cell_type": "code",
      "metadata": {
        "colab": {
          "base_uri": "https://localhost:8080/"
        },
        "id": "zEM44Q6Wj898",
        "outputId": "a8289823-053c-4297-bec2-68309b76fcca"
      },
      "source": [
        "tf.abs(tf.constant(-0.2))"
      ],
      "execution_count": 323,
      "outputs": [
        {
          "output_type": "execute_result",
          "data": {
            "text/plain": [
              "<tf.Tensor: shape=(), dtype=float32, numpy=0.2>"
            ]
          },
          "metadata": {},
          "execution_count": 323
        }
      ]
    },
    {
      "cell_type": "code",
      "metadata": {
        "colab": {
          "base_uri": "https://localhost:8080/"
        },
        "id": "5MK1QlmZkGl1",
        "outputId": "6d23309e-8424-4c6e-e953-c999b26c321a"
      },
      "source": [
        "x_abs_complex = tf.constant([-2.25 + 4.75j])\n",
        "tf.abs(x_abs_complex)\n"
      ],
      "execution_count": 324,
      "outputs": [
        {
          "output_type": "execute_result",
          "data": {
            "text/plain": [
              "<tf.Tensor: shape=(1,), dtype=float64, numpy=array([5.25594901])>"
            ]
          },
          "metadata": {},
          "execution_count": 324
        }
      ]
    },
    {
      "cell_type": "code",
      "metadata": {
        "colab": {
          "base_uri": "https://localhost:8080/"
        },
        "id": "_WJCCsbNlK9v",
        "outputId": "25ca6183-f699-453a-d65d-51bc0d53f18c"
      },
      "source": [
        "tf.sqrt((-2.25)**2 + 4.75**2)"
      ],
      "execution_count": 325,
      "outputs": [
        {
          "output_type": "execute_result",
          "data": {
            "text/plain": [
              "<tf.Tensor: shape=(), dtype=float32, numpy=5.255949>"
            ]
          },
          "metadata": {},
          "execution_count": 325
        }
      ]
    },
    {
      "cell_type": "code",
      "metadata": {
        "colab": {
          "base_uri": "https://localhost:8080/"
        },
        "id": "aWtN5DYrlbQl",
        "outputId": "72503a52-aecf-4222-f0df-6bdb1048d93a"
      },
      "source": [
        "x_1 = tf.constant([[5,3,6,6,4,6]], dtype = tf.float32)\n",
        "x_2 = tf.constant([[7], [5], [3]], dtype = tf.float32)\n",
        "\n",
        "print(x_1.shape)\n",
        "print(x_2.shape)\n",
        "print(tf.math.multiply(x_1, x_2))"
      ],
      "execution_count": 326,
      "outputs": [
        {
          "output_type": "stream",
          "name": "stdout",
          "text": [
            "(1, 6)\n",
            "(3, 1)\n",
            "tf.Tensor(\n",
            "[[35. 21. 42. 42. 28. 42.]\n",
            " [25. 15. 30. 30. 20. 30.]\n",
            " [15.  9. 18. 18. 12. 18.]], shape=(3, 6), dtype=float32)\n"
          ]
        }
      ]
    },
    {
      "cell_type": "code",
      "metadata": {
        "colab": {
          "base_uri": "https://localhost:8080/"
        },
        "id": "B3M6S96Xvtx3",
        "outputId": "5e42b739-bfd1-4fcc-f99a-5fd5c6a8ec2c"
      },
      "source": [
        "x_argmax = tf.constant([[2, 20, 30, 3, 6],\n",
        "                        [3, 11, 16, 1, 8],\n",
        "                        [14, 45, 23, 5, 27]])\n",
        "\n",
        "print(x_argmax.shape)\n",
        "print(tf.math.argmin(x_argmax, axis = 1))"
      ],
      "execution_count": 327,
      "outputs": [
        {
          "output_type": "stream",
          "name": "stdout",
          "text": [
            "(3, 5)\n",
            "tf.Tensor([0 3 3], shape=(3,), dtype=int64)\n"
          ]
        }
      ]
    },
    {
      "cell_type": "code",
      "metadata": {
        "colab": {
          "base_uri": "https://localhost:8080/"
        },
        "id": "0c8TcWr356Yo",
        "outputId": "b09c33ff-b75e-40e9-8a23-fd9e6f4e397a"
      },
      "source": [
        "x_argmax = tf.constant([200, 120, 130, 3, 6])\n",
        "print(tf.math.argmax(x_argmax))"
      ],
      "execution_count": 328,
      "outputs": [
        {
          "output_type": "stream",
          "name": "stdout",
          "text": [
            "tf.Tensor(0, shape=(), dtype=int64)\n"
          ]
        }
      ]
    },
    {
      "cell_type": "code",
      "metadata": {
        "colab": {
          "base_uri": "https://localhost:8080/"
        },
        "id": "uVyoaAOW6GWl",
        "outputId": "90cefe51-319c-4d37-bb3f-64b31087963f"
      },
      "source": [
        "x_argmax = tf.constant([200, 120, 130, 300, 6])\n",
        "print(tf.math.argmax(x_argmax))"
      ],
      "execution_count": 329,
      "outputs": [
        {
          "output_type": "stream",
          "name": "stdout",
          "text": [
            "tf.Tensor(3, shape=(), dtype=int64)\n"
          ]
        }
      ]
    },
    {
      "cell_type": "code",
      "metadata": {
        "colab": {
          "base_uri": "https://localhost:8080/"
        },
        "id": "-PyiwLjn6QVb",
        "outputId": "4849b0d1-06eb-4b59-dc13-a30b472d1e32"
      },
      "source": [
        "x = tf.constant([[2, 2], [3, 3]])\n",
        "y = tf.constant([[3, 0], [1, 4]])\n",
        "tf.pow(x, y)"
      ],
      "execution_count": 330,
      "outputs": [
        {
          "output_type": "execute_result",
          "data": {
            "text/plain": [
              "<tf.Tensor: shape=(2, 2), dtype=int32, numpy=\n",
              "array([[ 8,  1],\n",
              "       [ 3, 81]], dtype=int32)>"
            ]
          },
          "metadata": {},
          "execution_count": 330
        }
      ]
    },
    {
      "cell_type": "code",
      "metadata": {
        "colab": {
          "base_uri": "https://localhost:8080/"
        },
        "id": "8K-n06t69QwS",
        "outputId": "f7c01531-39b2-4488-ca26-eff8c10da573"
      },
      "source": [
        "tf.pow(tf.constant(2) ,tf.constant(3))"
      ],
      "execution_count": 331,
      "outputs": [
        {
          "output_type": "execute_result",
          "data": {
            "text/plain": [
              "<tf.Tensor: shape=(), dtype=int32, numpy=8>"
            ]
          },
          "metadata": {},
          "execution_count": 331
        }
      ]
    },
    {
      "cell_type": "code",
      "metadata": {
        "colab": {
          "base_uri": "https://localhost:8080/"
        },
        "id": "hdT8eEGe9XSq",
        "outputId": "48d1107f-2670-412e-cbd4-b817ea9cfdbe"
      },
      "source": [
        "tensor_two_d = tf.constant([[1,-2,0],\n",
        "                            [3,5,100],\n",
        "                            [1,5,6],\n",
        "                            [2,3,8]], dtype = tf.float16)\n",
        "print(tensor_two_d.shape)\n",
        "\n",
        "print(tf.math.reduce_std(tensor_two_d, axis=0, keepdims=True, name=None))"
      ],
      "execution_count": 332,
      "outputs": [
        {
          "output_type": "stream",
          "name": "stdout",
          "text": [
            "(4, 3)\n",
            "tf.Tensor([[ 0.829  2.861 41.38 ]], shape=(1, 3), dtype=float16)\n"
          ]
        }
      ]
    },
    {
      "cell_type": "code",
      "metadata": {
        "colab": {
          "base_uri": "https://localhost:8080/"
        },
        "id": "KS1itgw894MV",
        "outputId": "2da22c26-1ba3-4ca6-cc08-e0f17142aed8"
      },
      "source": [
        "tf.math.top_k(tensor_two_d, k = 2)"
      ],
      "execution_count": 333,
      "outputs": [
        {
          "output_type": "execute_result",
          "data": {
            "text/plain": [
              "TopKV2(values=<tf.Tensor: shape=(4, 2), dtype=float16, numpy=\n",
              "array([[  1.,   0.],\n",
              "       [100.,   5.],\n",
              "       [  6.,   5.],\n",
              "       [  8.,   3.]], dtype=float16)>, indices=<tf.Tensor: shape=(4, 2), dtype=int32, numpy=\n",
              "array([[0, 2],\n",
              "       [2, 1],\n",
              "       [2, 1],\n",
              "       [2, 1]], dtype=int32)>)"
            ]
          },
          "metadata": {},
          "execution_count": 333
        }
      ]
    },
    {
      "cell_type": "code",
      "metadata": {
        "colab": {
          "base_uri": "https://localhost:8080/"
        },
        "id": "jdCXMAfk-ztp",
        "outputId": "ab40c995-021b-4078-a3d2-df90e767fa16"
      },
      "source": [
        "x_1 = tf.constant([[1,2,0]])\n",
        "\n",
        "x_2 = tf.constant([[1,2],\n",
        "                  [3,5],\n",
        "                  [4,5]])\n",
        "\n",
        "x_3 = tf.constant([[1,2,0,2],\n",
        "                  [3,5,-1,2]])\n",
        "\n",
        "print(x_1.shape, x_2.shape, x_3.shape, tf.transpose(x_2).shape)\n",
        "# x_3.T = 4,2\n",
        "# x_2.T = 2,3\n",
        "print(tf.transpose(x_3)@tf.transpose(x_2))\n",
        "tf.linalg.matmul(\n",
        "    x_3, x_2, transpose_a=True, transpose_b=False, adjoint_a=False, adjoint_b=True,\n",
        "    a_is_sparse=False, b_is_sparse=False, output_type=None, name=None\n",
        ")"
      ],
      "execution_count": 334,
      "outputs": [
        {
          "output_type": "stream",
          "name": "stdout",
          "text": [
            "(1, 3) (3, 2) (2, 4) (2, 3)\n",
            "tf.Tensor(\n",
            "[[ 7 18 19]\n",
            " [12 31 33]\n",
            " [-2 -5 -5]\n",
            " [ 6 16 18]], shape=(4, 3), dtype=int32)\n"
          ]
        },
        {
          "output_type": "execute_result",
          "data": {
            "text/plain": [
              "<tf.Tensor: shape=(4, 3), dtype=int32, numpy=\n",
              "array([[ 7, 18, 19],\n",
              "       [12, 31, 33],\n",
              "       [-2, -5, -5],\n",
              "       [ 6, 16, 18]], dtype=int32)>"
            ]
          },
          "metadata": {},
          "execution_count": 334
        }
      ]
    },
    {
      "cell_type": "code",
      "metadata": {
        "colab": {
          "base_uri": "https://localhost:8080/"
        },
        "id": "zDx4KQjMQva0",
        "outputId": "700fe0c2-32a2-4ce4-c6b3-8a59af5a1eb4"
      },
      "source": [
        "x_1@x_2"
      ],
      "execution_count": 335,
      "outputs": [
        {
          "output_type": "execute_result",
          "data": {
            "text/plain": [
              "<tf.Tensor: shape=(1, 2), dtype=int32, numpy=array([[ 7, 12]], dtype=int32)>"
            ]
          },
          "metadata": {},
          "execution_count": 335
        }
      ]
    },
    {
      "cell_type": "code",
      "metadata": {
        "colab": {
          "base_uri": "https://localhost:8080/"
        },
        "id": "ZRv4BzcGU9I9",
        "outputId": "b4890062-8cda-4257-937f-afa19de32568"
      },
      "source": [
        "tf.transpose(x_2)"
      ],
      "execution_count": 336,
      "outputs": [
        {
          "output_type": "execute_result",
          "data": {
            "text/plain": [
              "<tf.Tensor: shape=(2, 3), dtype=int32, numpy=\n",
              "array([[1, 3, 4],\n",
              "       [2, 5, 5]], dtype=int32)>"
            ]
          },
          "metadata": {},
          "execution_count": 336
        }
      ]
    },
    {
      "cell_type": "code",
      "metadata": {
        "colab": {
          "base_uri": "https://localhost:8080/"
        },
        "id": "yerkW5UsVqiC",
        "outputId": "f527972c-c712-4d2d-86eb-5ac377405ad0"
      },
      "source": [
        "print(x_2)"
      ],
      "execution_count": 337,
      "outputs": [
        {
          "output_type": "stream",
          "name": "stdout",
          "text": [
            "tf.Tensor(\n",
            "[[1 2]\n",
            " [3 5]\n",
            " [4 5]], shape=(3, 2), dtype=int32)\n"
          ]
        }
      ]
    },
    {
      "cell_type": "code",
      "metadata": {
        "colab": {
          "base_uri": "https://localhost:8080/"
        },
        "id": "MgKN5fVZV4cR",
        "outputId": "d2fbeee3-326e-4c85-cff5-de5154e874d6"
      },
      "source": [
        "x_1 =  tf.constant([[[1,2],\n",
        "                    [3,5]],\n",
        "\n",
        "                    [[10,0],\n",
        "                    [1,2]],\n",
        "\n",
        "                    [[5,0],\n",
        "                    [2,0]]])\n",
        "\n",
        "x_2 = tf.constant([[[5,1,4],\n",
        "                    [34,15,1]],\n",
        "\n",
        "                    [[1,2,2],\n",
        "                    [5,3,2]],\n",
        "\n",
        "                    [[2,2,3],\n",
        "                    [1,1,1]]])\n",
        "\n",
        "print(tf.linalg.matmul(x_1, x_2))"
      ],
      "execution_count": 338,
      "outputs": [
        {
          "output_type": "stream",
          "name": "stdout",
          "text": [
            "tf.Tensor(\n",
            "[[[ 73  31   6]\n",
            "  [185  78  17]]\n",
            "\n",
            " [[ 10  20  20]\n",
            "  [ 11   8   6]]\n",
            "\n",
            " [[ 10  10  15]\n",
            "  [  4   4   6]]], shape=(3, 2, 3), dtype=int32)\n"
          ]
        }
      ]
    },
    {
      "cell_type": "code",
      "metadata": {
        "colab": {
          "base_uri": "https://localhost:8080/"
        },
        "id": "ebDr3NuFY2zx",
        "outputId": "d92bdcbd-9381-4deb-c676-0323eacc9534"
      },
      "source": [
        "x_1 =  tf.constant([[0,0],\n",
        "                    [0,2]])\n",
        "\n",
        "x_2 = tf.constant([[1,0,0],\n",
        "                    [0,0,0]])\n",
        "\n",
        "print(tf.linalg.matmul(x_1, x_2))"
      ],
      "execution_count": 339,
      "outputs": [
        {
          "output_type": "stream",
          "name": "stdout",
          "text": [
            "tf.Tensor(\n",
            "[[0 0 0]\n",
            " [0 0 0]], shape=(2, 3), dtype=int32)\n"
          ]
        }
      ]
    },
    {
      "cell_type": "code",
      "metadata": {
        "colab": {
          "base_uri": "https://localhost:8080/"
        },
        "id": "6BopZ07xa1m_",
        "outputId": "470291a3-493c-4b9e-d51d-6a1352e79a47"
      },
      "source": [
        "tensor_two_d = tf.constant([[1,-2,0],\n",
        "                            [3,5,100],\n",
        "                            [1,5,6],\n",
        "                            [2,3,8]], dtype = tf.float16)\n",
        "\n",
        "tensor_out_d = tf.constant([[1,0,0],\n",
        "                            [0,5,0],\n",
        "                            [0,0,6],\n",
        "                            [0,0,0]], dtype = tf.float16)\n",
        "\n",
        "#### ( m-n <= lower) and ( n-m <= upper)\n",
        "# m -- rows, n --- columns\n",
        "tf.linalg.band_part(tensor_two_d, 0, -1)"
      ],
      "execution_count": 340,
      "outputs": [
        {
          "output_type": "execute_result",
          "data": {
            "text/plain": [
              "<tf.Tensor: shape=(4, 3), dtype=float16, numpy=\n",
              "array([[  1.,  -2.,   0.],\n",
              "       [  0.,   5., 100.],\n",
              "       [  0.,   0.,   6.],\n",
              "       [  0.,   0.,   0.]], dtype=float16)>"
            ]
          },
          "metadata": {},
          "execution_count": 340
        }
      ]
    },
    {
      "cell_type": "code",
      "metadata": {
        "id": "MRDrq7d3d0X9"
      },
      "source": [
        "tensor_two_d_m_n = tf.constant([[0,-1,-2],\n",
        "                                [1,0,-1],\n",
        "                                [2,1,0],\n",
        "                                [3,2,1]], dtype = tf.float16)\n",
        "\n",
        "tensor_two_d_n_m = tf.constant([[0,1,2],\n",
        "                                [-1,0,1],\n",
        "                                [-2,-1,0],\n",
        "                                [-3,-2,-1]], dtype = tf.float16)\n",
        "\n",
        "m=1\n",
        "n=2"
      ],
      "execution_count": 341,
      "outputs": []
    },
    {
      "cell_type": "code",
      "metadata": {
        "id": "ByPOqs9455bY"
      },
      "source": [
        "tensor_two_d = tf.constant([[1,-2,0],\n",
        "                            [3,5,100],\n",
        "                            [1,5,6]], dtype = tf.float32)\n",
        "\n",
        "tensor_two_d_inv = tf.linalg.inv(tensor_two_d)"
      ],
      "execution_count": 342,
      "outputs": []
    },
    {
      "cell_type": "code",
      "metadata": {
        "colab": {
          "base_uri": "https://localhost:8080/"
        },
        "id": "_SswsaSz55h7",
        "outputId": "b52de7f4-db54-49b3-f5f9-51cfa898e58a"
      },
      "source": [
        "tensor_two_d@tensor_two_d_inv"
      ],
      "execution_count": 343,
      "outputs": [
        {
          "output_type": "execute_result",
          "data": {
            "text/plain": [
              "<tf.Tensor: shape=(3, 3), dtype=float32, numpy=\n",
              "array([[ 1.0000000e+00,  7.4505806e-09,  0.0000000e+00],\n",
              "       [ 1.6391277e-07,  1.0000000e+00,  4.4703484e-08],\n",
              "       [-5.2154064e-08,  7.4505806e-08,  1.0000000e+00]], dtype=float32)>"
            ]
          },
          "metadata": {},
          "execution_count": 343
        }
      ]
    },
    {
      "cell_type": "code",
      "metadata": {
        "colab": {
          "base_uri": "https://localhost:8080/"
        },
        "id": "7peMc_m755kj",
        "outputId": "2aa4ffee-078f-4969-ffc7-41c0435ffdc1"
      },
      "source": [
        "s,u,v = tf.linalg.svd(tensor_two_d)\n",
        "print(s)\n",
        "print(u)\n",
        "print(v)"
      ],
      "execution_count": 344,
      "outputs": [
        {
          "output_type": "stream",
          "name": "stdout",
          "text": [
            "tf.Tensor([100.3663      5.1059036   1.2371687], shape=(3,), dtype=float32)\n",
            "tf.Tensor(\n",
            "[[-7.4980810e-04 -3.7569830e-01  9.2674178e-01]\n",
            " [ 9.9803799e-01 -5.8300879e-02 -2.2827482e-02]\n",
            " [ 6.2606096e-02  9.2490643e-01  3.7500489e-01]], shape=(3, 3), dtype=float32)\n",
            "tf.Tensor(\n",
            "[[ 0.03044816  0.07330841  0.99684453]\n",
            " [ 0.0528536   0.9957936  -0.07484547]\n",
            " [ 0.998138   -0.05496572 -0.02644547]], shape=(3, 3), dtype=float32)\n"
          ]
        }
      ]
    },
    {
      "cell_type": "code",
      "metadata": {
        "colab": {
          "base_uri": "https://localhost:8080/"
        },
        "id": "X1Rjpo9u55m_",
        "outputId": "3e09ffd1-105e-4764-8949-71f21ecb6afa"
      },
      "source": [
        "tensor_three_d = tf.constant([[[1,2,0],\n",
        "                             [3,5,-1]],\n",
        "\n",
        "                            [[10,2,0],\n",
        "                             [1,0,2]],\n",
        "\n",
        "                            [[5,8,0],\n",
        "                             [2,7,0]],\n",
        "\n",
        "                            [[2,1,9],\n",
        "                             [4,-3,32]]])\n",
        "print(tensor_three_d.shape)\n",
        "x_exp = tf.expand_dims(tensor_three_d, axis = 3)\n",
        "print(x_exp.shape)\n",
        "print(tf.squeeze(x_exp, axis = 3))\n",
        "print(tf.reshape(x_exp, [4,2,3]))"
      ],
      "execution_count": 345,
      "outputs": [
        {
          "output_type": "stream",
          "name": "stdout",
          "text": [
            "(4, 2, 3)\n",
            "(4, 2, 3, 1)\n",
            "tf.Tensor(\n",
            "[[[ 1  2  0]\n",
            "  [ 3  5 -1]]\n",
            "\n",
            " [[10  2  0]\n",
            "  [ 1  0  2]]\n",
            "\n",
            " [[ 5  8  0]\n",
            "  [ 2  7  0]]\n",
            "\n",
            " [[ 2  1  9]\n",
            "  [ 4 -3 32]]], shape=(4, 2, 3), dtype=int32)\n",
            "tf.Tensor(\n",
            "[[[ 1  2  0]\n",
            "  [ 3  5 -1]]\n",
            "\n",
            " [[10  2  0]\n",
            "  [ 1  0  2]]\n",
            "\n",
            " [[ 5  8  0]\n",
            "  [ 2  7  0]]\n",
            "\n",
            " [[ 2  1  9]\n",
            "  [ 4 -3 32]]], shape=(4, 2, 3), dtype=int32)\n"
          ]
        }
      ]
    },
    {
      "cell_type": "code",
      "metadata": {
        "colab": {
          "base_uri": "https://localhost:8080/"
        },
        "id": "rFgCP3mdMNQs",
        "outputId": "40ba2475-29d0-4a19-e786-1b0f5e5820cb"
      },
      "source": [
        "x = tf.constant([[[2,3,4,5]]])\n",
        "print(x.shape)\n",
        "x_expanded = tf.expand_dims(x, axis = 0)\n",
        "print(x_expanded)"
      ],
      "execution_count": 346,
      "outputs": [
        {
          "output_type": "stream",
          "name": "stdout",
          "text": [
            "(1, 1, 4)\n",
            "tf.Tensor([[[[2 3 4 5]]]], shape=(1, 1, 1, 4), dtype=int32)\n"
          ]
        }
      ]
    },
    {
      "cell_type": "code",
      "metadata": {
        "colab": {
          "base_uri": "https://localhost:8080/"
        },
        "id": "1qDuhQM9MfzW",
        "outputId": "2410fe29-4810-43bc-adea-dab3bf3add58"
      },
      "source": [
        "x_squeezed = tf.squeeze(x_expanded, axis = 0)\n",
        "for i in range(2):\n",
        "  x_squeezed = tf.squeeze(x_squeezed, axis = 0)\n",
        "\n",
        "print(x_squeezed)"
      ],
      "execution_count": 347,
      "outputs": [
        {
          "output_type": "stream",
          "name": "stdout",
          "text": [
            "tf.Tensor([2 3 4 5], shape=(4,), dtype=int32)\n"
          ]
        }
      ]
    },
    {
      "cell_type": "code",
      "metadata": {
        "colab": {
          "base_uri": "https://localhost:8080/"
        },
        "id": "bULkPP3HONRz",
        "outputId": "ca59f950-3cba-4b84-adae-2164926b0de4"
      },
      "source": [
        "x_reshape = tf.constant([[3,5,6,6],\n",
        "                         [4,6,-1,2]])\n",
        "\n",
        "print(tf.reshape(x_reshape, [-1]))\n",
        "print(tf.reshape(x_reshape, [8]))"
      ],
      "execution_count": 348,
      "outputs": [
        {
          "output_type": "stream",
          "name": "stdout",
          "text": [
            "tf.Tensor([ 3  5  6  6  4  6 -1  2], shape=(8,), dtype=int32)\n",
            "tf.Tensor([ 3  5  6  6  4  6 -1  2], shape=(8,), dtype=int32)\n"
          ]
        }
      ]
    },
    {
      "cell_type": "code",
      "metadata": {
        "colab": {
          "base_uri": "https://localhost:8080/"
        },
        "id": "t1t5xMTzYrrC",
        "outputId": "f4acbe8d-33d5-42ca-dfa6-0fe30e4f8d9a"
      },
      "source": [
        "tf.transpose(x_reshape)"
      ],
      "execution_count": 349,
      "outputs": [
        {
          "output_type": "execute_result",
          "data": {
            "text/plain": [
              "<tf.Tensor: shape=(4, 2), dtype=int32, numpy=\n",
              "array([[ 3,  4],\n",
              "       [ 5,  6],\n",
              "       [ 6, -1],\n",
              "       [ 6,  2]], dtype=int32)>"
            ]
          },
          "metadata": {},
          "execution_count": 349
        }
      ]
    },
    {
      "cell_type": "code",
      "metadata": {
        "colab": {
          "base_uri": "https://localhost:8080/"
        },
        "id": "SzQVJwk0ZJmr",
        "outputId": "1de24d84-5b22-4b37-d4a0-13035786a553"
      },
      "source": [
        "t1 = [[1, 2, 3],\n",
        "      [4, 5, 6],\n",
        "      [5, 6, 2],\n",
        "      [1, 2, 1]]\n",
        "\n",
        "t2 = [[7, 8, 9],\n",
        "      [10, 11, 12],\n",
        "      [0, 0, 2],\n",
        "      [-1, 5, 2]]\n",
        "\n",
        "print(tf.constant(t1).shape)\n",
        "print(tf.constant(t2).shape)\n",
        "\n",
        "tf.concat([t1, t2], axis = 0)"
      ],
      "execution_count": 350,
      "outputs": [
        {
          "output_type": "stream",
          "name": "stdout",
          "text": [
            "(4, 3)\n",
            "(4, 3)\n"
          ]
        },
        {
          "output_type": "execute_result",
          "data": {
            "text/plain": [
              "<tf.Tensor: shape=(8, 3), dtype=int32, numpy=\n",
              "array([[ 1,  2,  3],\n",
              "       [ 4,  5,  6],\n",
              "       [ 5,  6,  2],\n",
              "       [ 1,  2,  1],\n",
              "       [ 7,  8,  9],\n",
              "       [10, 11, 12],\n",
              "       [ 0,  0,  2],\n",
              "       [-1,  5,  2]], dtype=int32)>"
            ]
          },
          "metadata": {},
          "execution_count": 350
        }
      ]
    },
    {
      "cell_type": "code",
      "metadata": {
        "colab": {
          "base_uri": "https://localhost:8080/"
        },
        "id": "I6eGMDgWtgry",
        "outputId": "f124b944-3693-4b28-cb5c-b213a9606de2"
      },
      "source": [
        "tf.stack([t1,t2], axis = 2)"
      ],
      "execution_count": 351,
      "outputs": [
        {
          "output_type": "execute_result",
          "data": {
            "text/plain": [
              "<tf.Tensor: shape=(4, 3, 2), dtype=int32, numpy=\n",
              "array([[[ 1,  7],\n",
              "        [ 2,  8],\n",
              "        [ 3,  9]],\n",
              "\n",
              "       [[ 4, 10],\n",
              "        [ 5, 11],\n",
              "        [ 6, 12]],\n",
              "\n",
              "       [[ 5,  0],\n",
              "        [ 6,  0],\n",
              "        [ 2,  2]],\n",
              "\n",
              "       [[ 1, -1],\n",
              "        [ 2,  5],\n",
              "        [ 1,  2]]], dtype=int32)>"
            ]
          },
          "metadata": {},
          "execution_count": 351
        }
      ]
    },
    {
      "cell_type": "code",
      "metadata": {
        "colab": {
          "base_uri": "https://localhost:8080/"
        },
        "id": "Y49Hwl9LtpbL",
        "outputId": "50087629-15f3-4cf6-d6b9-2cc00ef7052e"
      },
      "source": [
        "tf.stack([t1,t2], axis = 0)"
      ],
      "execution_count": 352,
      "outputs": [
        {
          "output_type": "execute_result",
          "data": {
            "text/plain": [
              "<tf.Tensor: shape=(2, 4, 3), dtype=int32, numpy=\n",
              "array([[[ 1,  2,  3],\n",
              "        [ 4,  5,  6],\n",
              "        [ 5,  6,  2],\n",
              "        [ 1,  2,  1]],\n",
              "\n",
              "       [[ 7,  8,  9],\n",
              "        [10, 11, 12],\n",
              "        [ 0,  0,  2],\n",
              "        [-1,  5,  2]]], dtype=int32)>"
            ]
          },
          "metadata": {},
          "execution_count": 352
        }
      ]
    },
    {
      "cell_type": "code",
      "metadata": {
        "colab": {
          "base_uri": "https://localhost:8080/"
        },
        "id": "g9AyrvBlHtMh",
        "outputId": "37cc269a-7d8a-401c-bb3c-d20636ac1d50"
      },
      "source": [
        "tf.concat([tf.expand_dims(t, axis = 0) for t in [t1,t2]], axis = 0)"
      ],
      "execution_count": 353,
      "outputs": [
        {
          "output_type": "execute_result",
          "data": {
            "text/plain": [
              "<tf.Tensor: shape=(2, 4, 3), dtype=int32, numpy=\n",
              "array([[[ 1,  2,  3],\n",
              "        [ 4,  5,  6],\n",
              "        [ 5,  6,  2],\n",
              "        [ 1,  2,  1]],\n",
              "\n",
              "       [[ 7,  8,  9],\n",
              "        [10, 11, 12],\n",
              "        [ 0,  0,  2],\n",
              "        [-1,  5,  2]]], dtype=int32)>"
            ]
          },
          "metadata": {},
          "execution_count": 353
        }
      ]
    },
    {
      "cell_type": "code",
      "metadata": {
        "id": "oKfMk0xTzpdG"
      },
      "source": [
        "t1 = [[1, 2, 3],\n",
        "      [4, 5, 6],\n",
        "      [5, 6, 2],\n",
        "      [1, 2, 1]]\n",
        "\n",
        "t2 = [[7, 8, 9],\n",
        "      [10, 11, 12],\n",
        "      [0, 0, 2],\n",
        "      [-1, 5, 2]]\n",
        "\n",
        "#4,3 - 4,3 --> 2,4,3\n",
        "#4,3 - 4,3 --> 4,2,3\n",
        "#4,3 - 4,3 --> 4,3,2"
      ],
      "execution_count": 354,
      "outputs": []
    },
    {
      "cell_type": "code",
      "metadata": {
        "colab": {
          "base_uri": "https://localhost:8080/"
        },
        "id": "MiMHMjLh5Y21",
        "outputId": "af29a838-1741-4687-cb08-b9655cc38913"
      },
      "source": [
        "t = tf.constant([[1, 2, 3],\n",
        "                 [4, 5, 6]])\n",
        "\n",
        "paddings = tf.constant([[1, 5,],\n",
        "                        [2, 3]])\n",
        "\n",
        "tf.pad(t, paddings, \"CONSTANT\", constant_values = 0)"
      ],
      "execution_count": 355,
      "outputs": [
        {
          "output_type": "execute_result",
          "data": {
            "text/plain": [
              "<tf.Tensor: shape=(8, 8), dtype=int32, numpy=\n",
              "array([[0, 0, 0, 0, 0, 0, 0, 0],\n",
              "       [0, 0, 1, 2, 3, 0, 0, 0],\n",
              "       [0, 0, 4, 5, 6, 0, 0, 0],\n",
              "       [0, 0, 0, 0, 0, 0, 0, 0],\n",
              "       [0, 0, 0, 0, 0, 0, 0, 0],\n",
              "       [0, 0, 0, 0, 0, 0, 0, 0],\n",
              "       [0, 0, 0, 0, 0, 0, 0, 0],\n",
              "       [0, 0, 0, 0, 0, 0, 0, 0]], dtype=int32)>"
            ]
          },
          "metadata": {},
          "execution_count": 355
        }
      ]
    },
    {
      "cell_type": "code",
      "metadata": {
        "colab": {
          "base_uri": "https://localhost:8080/"
        },
        "id": "ZHAlMK43JAkI",
        "outputId": "15b75045-4111-48a6-e1c8-fcc312bc1419"
      },
      "source": [
        "params = tf.constant(['p0', 'p1', 'p2', 'p3', 'p4', 'p5'])\n",
        "print(params.shape)\n",
        "params[1:3+1]"
      ],
      "execution_count": 356,
      "outputs": [
        {
          "output_type": "stream",
          "name": "stdout",
          "text": [
            "(6,)\n"
          ]
        },
        {
          "output_type": "execute_result",
          "data": {
            "text/plain": [
              "<tf.Tensor: shape=(3,), dtype=string, numpy=array([b'p1', b'p2', b'p3'], dtype=object)>"
            ]
          },
          "metadata": {},
          "execution_count": 356
        }
      ]
    },
    {
      "cell_type": "code",
      "metadata": {
        "colab": {
          "base_uri": "https://localhost:8080/"
        },
        "id": "F8yiI_yzqDT4",
        "outputId": "b9b130df-7ac8-4c18-ea6b-ada9e09f47b4"
      },
      "source": [
        "tf.gather(params, [0,5,3], axis = 0)"
      ],
      "execution_count": 357,
      "outputs": [
        {
          "output_type": "execute_result",
          "data": {
            "text/plain": [
              "<tf.Tensor: shape=(3,), dtype=string, numpy=array([b'p0', b'p5', b'p3'], dtype=object)>"
            ]
          },
          "metadata": {},
          "execution_count": 357
        }
      ]
    },
    {
      "cell_type": "code",
      "metadata": {
        "colab": {
          "base_uri": "https://localhost:8080/"
        },
        "id": "YIAffDtDqd5w",
        "outputId": "4d68219c-ab20-4918-8677-903bbfcef142"
      },
      "source": [
        "params = tf.constant([\n",
        "\n",
        "                      [[0, 1.0, 2.0],\n",
        "                       [10.0, 11.0, 12.0],\n",
        "                       [20.0, 21.0, 22.0],\n",
        "                       [30.0, 31.0, 32.0]],\n",
        "\n",
        "                      [[3, 1.0,21],\n",
        "                       [1, 3, 88],\n",
        "                       [0, 5, 55],\n",
        "                       [0, 2, 30]]\n",
        "\n",
        "                      ])\n",
        "print(params.shape)\n",
        "tf.gather(params, [2, 0], axis = 1)"
      ],
      "execution_count": 358,
      "outputs": [
        {
          "output_type": "stream",
          "name": "stdout",
          "text": [
            "(2, 4, 3)\n"
          ]
        },
        {
          "output_type": "execute_result",
          "data": {
            "text/plain": [
              "<tf.Tensor: shape=(2, 2, 3), dtype=float32, numpy=\n",
              "array([[[20., 21., 22.],\n",
              "        [ 0.,  1.,  2.]],\n",
              "\n",
              "       [[ 0.,  5., 55.],\n",
              "        [ 3.,  1., 21.]]], dtype=float32)>"
            ]
          },
          "metadata": {},
          "execution_count": 358
        }
      ]
    },
    {
      "cell_type": "code",
      "metadata": {
        "colab": {
          "base_uri": "https://localhost:8080/"
        },
        "id": "g9wlEPIp1CLv",
        "outputId": "b05a21f5-e4e1-464b-a7ba-54e011df3afe"
      },
      "source": [
        "params = tf.constant([[3, 1.0,21],\n",
        "                       [1, 3, 88],\n",
        "                       [0, 5, 55],\n",
        "                       [0, 2, 30]])\n",
        "\n",
        "print(params.shape)\n",
        "tf.gather(params, [2, 0], axis = 0)"
      ],
      "execution_count": 359,
      "outputs": [
        {
          "output_type": "stream",
          "name": "stdout",
          "text": [
            "(4, 3)\n"
          ]
        },
        {
          "output_type": "execute_result",
          "data": {
            "text/plain": [
              "<tf.Tensor: shape=(2, 3), dtype=float32, numpy=\n",
              "array([[ 0.,  5., 55.],\n",
              "       [ 3.,  1., 21.]], dtype=float32)>"
            ]
          },
          "metadata": {},
          "execution_count": 359
        }
      ]
    },
    {
      "cell_type": "code",
      "metadata": {
        "colab": {
          "base_uri": "https://localhost:8080/"
        },
        "id": "VKAq9TwhwaxP",
        "outputId": "8d7873ba-7144-432b-c68e-292a3b68c390"
      },
      "source": [
        "indices = [2,1]\n",
        "\n",
        "params = [['a', 'b'],\n",
        "          ['c', 'd'],\n",
        "          ['e', 'f']]\n",
        "\n",
        "tf.gather_nd(params, indices)"
      ],
      "execution_count": 360,
      "outputs": [
        {
          "output_type": "execute_result",
          "data": {
            "text/plain": [
              "<tf.Tensor: shape=(), dtype=string, numpy=b'f'>"
            ]
          },
          "metadata": {},
          "execution_count": 360
        }
      ]
    },
    {
      "cell_type": "code",
      "metadata": {
        "colab": {
          "base_uri": "https://localhost:8080/"
        },
        "id": "xvcGnQFF01Ki",
        "outputId": "b4f480bd-3bb2-443a-bc77-0ad12d89ec77"
      },
      "source": [
        "indices = [[0, 1, 0], [1, 0, 1]]\n",
        "\n",
        "params = [[['a0', 'b0'],\n",
        "           ['c0', 'd0']],\n",
        "\n",
        "          [['a1', 'b1'],\n",
        "           ['c1', 'd1']]]\n",
        "\n",
        "tf.gather_nd(params, indices)"
      ],
      "execution_count": 361,
      "outputs": [
        {
          "output_type": "execute_result",
          "data": {
            "text/plain": [
              "<tf.Tensor: shape=(2,), dtype=string, numpy=array([b'c0', b'b1'], dtype=object)>"
            ]
          },
          "metadata": {},
          "execution_count": 361
        }
      ]
    },
    {
      "cell_type": "code",
      "metadata": {
        "colab": {
          "base_uri": "https://localhost:8080/"
        },
        "id": "XgGC1O5N01Lz",
        "outputId": "71f05cfb-e1c7-4c1c-9266-8ecad5c7ed36"
      },
      "source": [
        "indices = [[[0, 1],\n",
        "            [1, 0]],\n",
        "\n",
        "            [[0, 0],\n",
        "             [1, 1]]]\n",
        "\n",
        "params = [[['a0', 'b0'],\n",
        "           ['c0', 'd0']],\n",
        "\n",
        "          [['a1', 'b1'],\n",
        "           ['c1', 'd1']]]\n",
        "\n",
        "tf.gather_nd(params, indices)"
      ],
      "execution_count": 362,
      "outputs": [
        {
          "output_type": "execute_result",
          "data": {
            "text/plain": [
              "<tf.Tensor: shape=(2, 2, 2), dtype=string, numpy=\n",
              "array([[[b'c0', b'd0'],\n",
              "        [b'a1', b'b1']],\n",
              "\n",
              "       [[b'a0', b'b0'],\n",
              "        [b'c1', b'd1']]], dtype=object)>"
            ]
          },
          "metadata": {},
          "execution_count": 362
        }
      ]
    },
    {
      "cell_type": "code",
      "metadata": {
        "id": "jBFmBZ3w01Pf",
        "colab": {
          "base_uri": "https://localhost:8080/"
        },
        "outputId": "e1c379ac-2d17-48ab-e191-3046eefb1a6b"
      },
      "source": [
        "indices = [[[0, 1],\n",
        "            [1, 0]],\n",
        "\n",
        "            [[0, 0],\n",
        "             [1, 1]]]\n",
        "\n",
        "params = [[['a0', 'b0'],\n",
        "           ['c0', 'd0']],\n",
        "\n",
        "          [['a1', 'b1'],\n",
        "           ['c1', 'd1']]]\n",
        "\n",
        "\n",
        "tf.gather_nd(params, indices, batch_dims = 1)"
      ],
      "execution_count": 363,
      "outputs": [
        {
          "output_type": "execute_result",
          "data": {
            "text/plain": [
              "<tf.Tensor: shape=(2, 2), dtype=string, numpy=\n",
              "array([[b'b0', b'c0'],\n",
              "       [b'a1', b'd1']], dtype=object)>"
            ]
          },
          "metadata": {},
          "execution_count": 363
        }
      ]
    },
    {
      "cell_type": "code",
      "metadata": {
        "id": "S7n0CSco0ykG",
        "colab": {
          "base_uri": "https://localhost:8080/"
        },
        "outputId": "54ebb001-3545-46a5-848c-fed106ddf472"
      },
      "source": [
        "indices = [[0,1],\n",
        "           [1,0]]\n",
        "\n",
        "params = [[['a0', 'b0'],\n",
        "           ['c0', 'd0']],\n",
        "\n",
        "          [['a1', 'b1'],\n",
        "           ['c1', 'd1']]]\n",
        "\n",
        "\n",
        "tf.gather_nd(params, indices, batch_dims = 1)"
      ],
      "execution_count": 364,
      "outputs": [
        {
          "output_type": "execute_result",
          "data": {
            "text/plain": [
              "<tf.Tensor: shape=(2,), dtype=string, numpy=array([b'b0', b'c1'], dtype=object)>"
            ]
          },
          "metadata": {},
          "execution_count": 364
        }
      ]
    },
    {
      "cell_type": "code",
      "metadata": {
        "colab": {
          "base_uri": "https://localhost:8080/"
        },
        "id": "tutRTwsi9ElS",
        "outputId": "17f3987f-3270-4948-d427-7076bbe7d5b2"
      },
      "source": [
        "tensor_two_d = tf.constant([[1,2,0],\n",
        "                            [3,5,-1],\n",
        "                            [1,5,6],\n",
        "                            [2,3,8]])\n",
        "print(tensor_two_d)"
      ],
      "execution_count": 365,
      "outputs": [
        {
          "output_type": "stream",
          "name": "stdout",
          "text": [
            "tf.Tensor(\n",
            "[[ 1  2  0]\n",
            " [ 3  5 -1]\n",
            " [ 1  5  6]\n",
            " [ 2  3  8]], shape=(4, 3), dtype=int32)\n"
          ]
        }
      ]
    },
    {
      "cell_type": "code",
      "metadata": {
        "colab": {
          "base_uri": "https://localhost:8080/"
        },
        "id": "nnTA9vIhIIXj",
        "outputId": "fc623259-d36b-42bc-e7ac-28dc2f687a2b"
      },
      "source": [
        "tensor_two_d =[[1,2,0],\n",
        "               [3,],\n",
        "               [1,5,6,5,6],\n",
        "               [2,3]]\n",
        "tensor_ragged = tf.ragged.constant(tensor_two_d)\n",
        "print(tensor_ragged)"
      ],
      "execution_count": 366,
      "outputs": [
        {
          "output_type": "stream",
          "name": "stdout",
          "text": [
            "<tf.RaggedTensor [[1, 2, 0], [3], [1, 5, 6, 5, 6], [2, 3]]>\n"
          ]
        }
      ]
    },
    {
      "cell_type": "code",
      "metadata": {
        "id": "iYgA5jT3Izwx",
        "colab": {
          "base_uri": "https://localhost:8080/"
        },
        "outputId": "849d2668-baf2-4c4d-beed-6e2d90cb8cae"
      },
      "source": [
        "print(tf.RaggedTensor.from_row_lengths(\n",
        "    values=[3, 1, 4, 1, 5, 9, 2, 6],\n",
        "    row_lengths=[4, 0, 3, 1,0]))"
      ],
      "execution_count": 367,
      "outputs": [
        {
          "output_type": "stream",
          "name": "stdout",
          "text": [
            "<tf.RaggedTensor [[3, 1, 4, 1], [], [5, 9, 2], [6], []]>\n"
          ]
        }
      ]
    },
    {
      "cell_type": "code",
      "metadata": {
        "id": "wwfmFw9o_CDi"
      },
      "source": [
        "tensor_sparse = tf.sparse.SparseTensor(\n",
        "    indices = [[1,1],[3,4]], values = [11,56], dense_shape = [5,6]\n",
        ")"
      ],
      "execution_count": 368,
      "outputs": []
    },
    {
      "cell_type": "code",
      "metadata": {
        "colab": {
          "base_uri": "https://localhost:8080/"
        },
        "id": "Fa3RKybXJax8",
        "outputId": "759c107b-6ec0-4f0c-91e2-0890c123a5a4"
      },
      "source": [
        "print(tensor_sparse)"
      ],
      "execution_count": 369,
      "outputs": [
        {
          "output_type": "stream",
          "name": "stdout",
          "text": [
            "SparseTensor(indices=tf.Tensor(\n",
            "[[1 1]\n",
            " [3 4]], shape=(2, 2), dtype=int64), values=tf.Tensor([11 56], shape=(2,), dtype=int32), dense_shape=tf.Tensor([5 6], shape=(2,), dtype=int64))\n"
          ]
        }
      ]
    },
    {
      "cell_type": "code",
      "metadata": {
        "colab": {
          "base_uri": "https://localhost:8080/"
        },
        "id": "UyZT52wjKXzn",
        "outputId": "162a8c96-682d-4c82-a6c2-b1e8c6589bc6"
      },
      "source": [
        "tf.sparse.to_dense(tensor_sparse)"
      ],
      "execution_count": 370,
      "outputs": [
        {
          "output_type": "execute_result",
          "data": {
            "text/plain": [
              "<tf.Tensor: shape=(5, 6), dtype=int32, numpy=\n",
              "array([[ 0,  0,  0,  0,  0,  0],\n",
              "       [ 0, 11,  0,  0,  0,  0],\n",
              "       [ 0,  0,  0,  0,  0,  0],\n",
              "       [ 0,  0,  0,  0, 56,  0],\n",
              "       [ 0,  0,  0,  0,  0,  0]], dtype=int32)>"
            ]
          },
          "metadata": {},
          "execution_count": 370
        }
      ]
    },
    {
      "cell_type": "code",
      "metadata": {
        "colab": {
          "base_uri": "https://localhost:8080/"
        },
        "id": "is0w7-j1KjpO",
        "outputId": "5c528e50-28ed-4b7f-ffc3-f104e90c0fd4"
      },
      "source": [
        "tensor_string = tf.constant([\"hello\", \"i am \", \"a string\"])\n",
        "print(tensor_string)"
      ],
      "execution_count": 371,
      "outputs": [
        {
          "output_type": "stream",
          "name": "stdout",
          "text": [
            "tf.Tensor([b'hello' b'i am ' b'a string'], shape=(3,), dtype=string)\n"
          ]
        }
      ]
    },
    {
      "cell_type": "code",
      "metadata": {
        "colab": {
          "base_uri": "https://localhost:8080/"
        },
        "id": "Rm5sG9NAM2y1",
        "outputId": "48ff46b6-0160-4222-c5d1-94fe298d8756"
      },
      "source": [
        "tf.strings.join(tensor_string, separator=\"+\")"
      ],
      "execution_count": 372,
      "outputs": [
        {
          "output_type": "execute_result",
          "data": {
            "text/plain": [
              "<tf.Tensor: shape=(), dtype=string, numpy=b'hello+i am +a string'>"
            ]
          },
          "metadata": {},
          "execution_count": 372
        }
      ]
    },
    {
      "cell_type": "code",
      "metadata": {
        "id": "d9JKnbpmNdSm"
      },
      "source": [
        "x = tf.constant([1,2])"
      ],
      "execution_count": 373,
      "outputs": []
    },
    {
      "cell_type": "code",
      "metadata": {
        "colab": {
          "base_uri": "https://localhost:8080/"
        },
        "id": "Uc0h-FtEQuI7",
        "outputId": "05da4f5f-508f-418d-adc8-739dcc7eb395"
      },
      "source": [
        "x_var = tf.Variable(x, name = 'var1')\n",
        "print(x_var)"
      ],
      "execution_count": 374,
      "outputs": [
        {
          "output_type": "stream",
          "name": "stdout",
          "text": [
            "<tf.Variable 'var1:0' shape=(2,) dtype=int32, numpy=array([1, 2], dtype=int32)>\n"
          ]
        }
      ]
    },
    {
      "cell_type": "code",
      "metadata": {
        "colab": {
          "base_uri": "https://localhost:8080/"
        },
        "id": "px97CMCBQvQU",
        "outputId": "869c7d52-75bd-4335-93a3-0116a98e7cdc"
      },
      "source": [
        "x_var.assign_add([5,8])"
      ],
      "execution_count": 375,
      "outputs": [
        {
          "output_type": "execute_result",
          "data": {
            "text/plain": [
              "<tf.Variable 'UnreadVariable' shape=(2,) dtype=int32, numpy=array([ 6, 10], dtype=int32)>"
            ]
          },
          "metadata": {},
          "execution_count": 375
        }
      ]
    },
    {
      "cell_type": "code",
      "metadata": {
        "colab": {
          "base_uri": "https://localhost:8080/"
        },
        "id": "xpbq8abfaCzM",
        "outputId": "79a3ce02-2914-4054-c9af-be103d6609e1"
      },
      "source": [
        "with tf.device('CPU:0'):\n",
        "  x_1 = tf.constant([1,3,4])\n",
        "  x_2 = tf.constant([1])\n",
        "\n",
        "with tf.device('GPU:0'):\n",
        "  x_3 = x_1 + x_2\n",
        "\n",
        "print(x_1, x_1.device)\n",
        "print(x_2, x_2.device)\n",
        "print(x_3, x_3.device)"
      ],
      "execution_count": 376,
      "outputs": [
        {
          "output_type": "stream",
          "name": "stdout",
          "text": [
            "tf.Tensor([1 3 4], shape=(3,), dtype=int32) /job:localhost/replica:0/task:0/device:CPU:0\n",
            "tf.Tensor([1], shape=(1,), dtype=int32) /job:localhost/replica:0/task:0/device:CPU:0\n",
            "tf.Tensor([2 4 5], shape=(3,), dtype=int32) /job:localhost/replica:0/task:0/device:CPU:0\n"
          ]
        }
      ]
    },
    {
      "cell_type": "code",
      "source": [
        "# !wget https://github.com/srihari-humbarwadi/datasets/releases/download/v0.1.0/data.zip"
      ],
      "metadata": {
        "id": "Y-UOheDTF3dl"
      },
      "execution_count": 377,
      "outputs": []
    },
    {
      "cell_type": "code",
      "source": [
        "# !unzip /content/data.zip -d /content/dataset"
      ],
      "metadata": {
        "id": "vEs65byXF3f6"
      },
      "execution_count": 378,
      "outputs": []
    },
    {
      "cell_type": "code",
      "source": [
        "import tensorflow as tf"
      ],
      "metadata": {
        "id": "PZlofuJ6GCiA"
      },
      "execution_count": 379,
      "outputs": []
    },
    {
      "cell_type": "code",
      "source": [
        "input_var = tf.Variable(initial_value=10.)\n",
        "with tf.GradientTape() as tape:\n",
        "  result = tf.square(input_var)\n",
        "gradient = tape.gradient(result, input_var)"
      ],
      "metadata": {
        "id": "-GgO56FCNCDT"
      },
      "execution_count": 380,
      "outputs": []
    },
    {
      "cell_type": "code",
      "source": [
        "print(gradient)"
      ],
      "metadata": {
        "colab": {
          "base_uri": "https://localhost:8080/"
        },
        "id": "CDIQ8WdfNCGA",
        "outputId": "fc95479c-bd0c-4b87-d366-2958dca8d423"
      },
      "execution_count": 381,
      "outputs": [
        {
          "output_type": "stream",
          "name": "stdout",
          "text": [
            "tf.Tensor(20.0, shape=(), dtype=float32)\n"
          ]
        }
      ]
    },
    {
      "cell_type": "code",
      "source": [
        "input_const = tf.constant(10.)\n",
        "with tf.GradientTape() as tape:\n",
        "  tape.watch(input_const)\n",
        "  result = tf.square(input_const)\n",
        "gradient = tape.gradient(result, input_const)"
      ],
      "metadata": {
        "id": "oK79nowINCKJ"
      },
      "execution_count": 382,
      "outputs": []
    },
    {
      "cell_type": "code",
      "source": [
        "print(gradient)"
      ],
      "metadata": {
        "colab": {
          "base_uri": "https://localhost:8080/"
        },
        "id": "9Y_C3CfXdsBN",
        "outputId": "56963176-1705-4b24-edb2-65401b31304f"
      },
      "execution_count": 383,
      "outputs": [
        {
          "output_type": "stream",
          "name": "stdout",
          "text": [
            "tf.Tensor(20.0, shape=(), dtype=float32)\n"
          ]
        }
      ]
    },
    {
      "cell_type": "code",
      "source": [
        "time = tf.Variable(0.)\n",
        "with tf.GradientTape() as outer_tape:\n",
        "  with tf.GradientTape() as inner_tape:\n",
        "    position = 4.9 * time ** 2\n",
        "  speed = inner_tape.gradient(position, time)\n",
        "acceleration = outer_tape.gradient(speed, time)"
      ],
      "metadata": {
        "id": "_I8jgsV0dtnH"
      },
      "execution_count": 384,
      "outputs": []
    },
    {
      "cell_type": "code",
      "source": [
        "print(speed)"
      ],
      "metadata": {
        "id": "QMh8VmJteYA9",
        "outputId": "2599ba95-7a97-4583-ddca-806dbcc5bce1",
        "colab": {
          "base_uri": "https://localhost:8080/"
        }
      },
      "execution_count": 385,
      "outputs": [
        {
          "output_type": "stream",
          "name": "stdout",
          "text": [
            "tf.Tensor(0.0, shape=(), dtype=float32)\n"
          ]
        }
      ]
    },
    {
      "cell_type": "code",
      "source": [
        "print(acceleration)"
      ],
      "metadata": {
        "id": "-zQJQVMBeY__",
        "outputId": "b8f39b05-c7ff-4601-ee4c-6da8068ba66a",
        "colab": {
          "base_uri": "https://localhost:8080/"
        }
      },
      "execution_count": 386,
      "outputs": [
        {
          "output_type": "stream",
          "name": "stdout",
          "text": [
            "tf.Tensor(9.8, shape=(), dtype=float32)\n"
          ]
        }
      ]
    },
    {
      "cell_type": "code",
      "source": [
        "tensor_indexed = tf.constant([2,4,9,0,4,5,6,7])"
      ],
      "metadata": {
        "id": "Jn_7YD6LlFWl"
      },
      "execution_count": 387,
      "outputs": []
    },
    {
      "cell_type": "code",
      "source": [
        "tensor_indexed[3:7]"
      ],
      "metadata": {
        "id": "hlA8UrgflFgy",
        "colab": {
          "base_uri": "https://localhost:8080/"
        },
        "outputId": "f7b5d800-3c18-4d98-f3c9-739757fc30c7"
      },
      "execution_count": 388,
      "outputs": [
        {
          "output_type": "execute_result",
          "data": {
            "text/plain": [
              "<tf.Tensor: shape=(4,), dtype=int32, numpy=array([0, 4, 5, 6], dtype=int32)>"
            ]
          },
          "metadata": {},
          "execution_count": 388
        }
      ]
    },
    {
      "cell_type": "code",
      "source": [
        "print(tensor_indexed[0:7:1])\n",
        "print(tensor_indexed[0:7:2])"
      ],
      "metadata": {
        "colab": {
          "base_uri": "https://localhost:8080/"
        },
        "id": "CbkGiYZ2lFiT",
        "outputId": "8e9d33a7-7eb9-4e92-869e-20dfb9b30e17"
      },
      "execution_count": 389,
      "outputs": [
        {
          "output_type": "stream",
          "name": "stdout",
          "text": [
            "tf.Tensor([2 4 9 0 4 5 6], shape=(7,), dtype=int32)\n",
            "tf.Tensor([2 9 4 6], shape=(4,), dtype=int32)\n"
          ]
        }
      ]
    },
    {
      "cell_type": "code",
      "source": [
        "tensor_indexed[-1]"
      ],
      "metadata": {
        "colab": {
          "base_uri": "https://localhost:8080/"
        },
        "id": "kTIGmUiJlFj6",
        "outputId": "5cb6e002-6e10-4960-f008-b0602b2a5e7f"
      },
      "execution_count": 390,
      "outputs": [
        {
          "output_type": "execute_result",
          "data": {
            "text/plain": [
              "<tf.Tensor: shape=(), dtype=int32, numpy=7>"
            ]
          },
          "metadata": {},
          "execution_count": 390
        }
      ]
    },
    {
      "cell_type": "code",
      "source": [
        "print(tensor_indexed[0,...])\n",
        "print(tensor_indexed[0:1,...])"
      ],
      "metadata": {
        "colab": {
          "base_uri": "https://localhost:8080/"
        },
        "id": "K4Z--GqZlGUN",
        "outputId": "522b61c2-a90d-422e-a686-a4fa0070bec0"
      },
      "execution_count": 391,
      "outputs": [
        {
          "output_type": "stream",
          "name": "stdout",
          "text": [
            "tf.Tensor(2, shape=(), dtype=int32)\n",
            "tf.Tensor([2], shape=(1,), dtype=int32)\n"
          ]
        }
      ]
    },
    {
      "cell_type": "code",
      "source": [
        "tensor_indexed = tf.constant(\n",
        "                              [[[1,2,0],\n",
        "                                [3,5,-1]],\n",
        "\n",
        "                              [[10,2,0],\n",
        "                               [1,0,2]],\n",
        "\n",
        "                              [[5,8,0],\n",
        "                               [2,7,0]],\n",
        "\n",
        "                              [[2,1,9],\n",
        "                               [4,-3,32]]])"
      ],
      "metadata": {
        "id": "dLB5MMoJlGYt"
      },
      "execution_count": 392,
      "outputs": []
    },
    {
      "cell_type": "code",
      "source": [
        "print(tensor_indexed.shape)"
      ],
      "metadata": {
        "colab": {
          "base_uri": "https://localhost:8080/"
        },
        "id": "3T8XiL6h8h3J",
        "outputId": "6a429520-eb5d-46f3-a69a-74f957f573a7"
      },
      "execution_count": 393,
      "outputs": [
        {
          "output_type": "stream",
          "name": "stdout",
          "text": [
            "(4, 2, 3)\n"
          ]
        }
      ]
    },
    {
      "cell_type": "code",
      "source": [
        "tensor_indexed[:,:,2]"
      ],
      "metadata": {
        "colab": {
          "base_uri": "https://localhost:8080/"
        },
        "id": "cOKk7cOdlGeM",
        "outputId": "90e87654-2244-4852-ab65-7731a98e16ef"
      },
      "execution_count": 394,
      "outputs": [
        {
          "output_type": "execute_result",
          "data": {
            "text/plain": [
              "<tf.Tensor: shape=(4, 2), dtype=int32, numpy=\n",
              "array([[ 0, -1],\n",
              "       [ 0,  2],\n",
              "       [ 0,  0],\n",
              "       [ 9, 32]], dtype=int32)>"
            ]
          },
          "metadata": {},
          "execution_count": 394
        }
      ]
    },
    {
      "cell_type": "code",
      "source": [
        "x = tf.constant([2,-1,3,-0.1,0])\n",
        "print(tf.abs(x))"
      ],
      "metadata": {
        "colab": {
          "base_uri": "https://localhost:8080/"
        },
        "id": "nt9i5cxRlGil",
        "outputId": "76e3ccb4-9ad8-4624-eb53-2fb00a7cf2e8"
      },
      "execution_count": 395,
      "outputs": [
        {
          "output_type": "stream",
          "name": "stdout",
          "text": [
            "tf.Tensor([2.  1.  3.  0.1 0. ], shape=(5,), dtype=float32)\n"
          ]
        }
      ]
    },
    {
      "cell_type": "code",
      "source": [
        "x = tf.constant(2+3j)\n",
        "print(tf.abs(x))"
      ],
      "metadata": {
        "colab": {
          "base_uri": "https://localhost:8080/"
        },
        "id": "sfiOSjoklGnZ",
        "outputId": "1063b091-13d5-466b-ad54-b92144999762"
      },
      "execution_count": 396,
      "outputs": [
        {
          "output_type": "stream",
          "name": "stdout",
          "text": [
            "tf.Tensor(3.605551275463989, shape=(), dtype=float64)\n"
          ]
        }
      ]
    },
    {
      "cell_type": "code",
      "source": [
        "tf.sqrt(2.**2+3.**2)"
      ],
      "metadata": {
        "colab": {
          "base_uri": "https://localhost:8080/"
        },
        "id": "Dqa0-whllGrj",
        "outputId": "c9e1aa5d-9ce5-439f-9150-d4147fb0e18a"
      },
      "execution_count": 397,
      "outputs": [
        {
          "output_type": "execute_result",
          "data": {
            "text/plain": [
              "<tf.Tensor: shape=(), dtype=float32, numpy=3.6055512>"
            ]
          },
          "metadata": {},
          "execution_count": 397
        }
      ]
    },
    {
      "cell_type": "code",
      "source": [
        "x = tf.constant([2,3,5,7])\n",
        "y = tf.constant([0,2,4,5])\n",
        "print(tf.math.divide(x,y))"
      ],
      "metadata": {
        "colab": {
          "base_uri": "https://localhost:8080/"
        },
        "id": "P3ev2dqrlGwZ",
        "outputId": "d99a3c94-b8ca-4c78-f51a-806f9b08b059"
      },
      "execution_count": 398,
      "outputs": [
        {
          "output_type": "stream",
          "name": "stdout",
          "text": [
            "tf.Tensor([ inf 1.5  1.25 1.4 ], shape=(4,), dtype=float64)\n"
          ]
        }
      ]
    },
    {
      "cell_type": "code",
      "source": [
        "x = tf.constant([[2,3,4,5]])\n",
        "y = tf.constant([[1],[3]])\n",
        "print(tf.math.maximum(x,y))"
      ],
      "metadata": {
        "colab": {
          "base_uri": "https://localhost:8080/"
        },
        "id": "955B2wjLlG0B",
        "outputId": "91e0894b-de08-40bd-e2dc-53bd83dc8f36"
      },
      "execution_count": 399,
      "outputs": [
        {
          "output_type": "stream",
          "name": "stdout",
          "text": [
            "tf.Tensor(\n",
            "[[2 3 4 5]\n",
            " [3 3 4 5]], shape=(2, 4), dtype=int32)\n"
          ]
        }
      ]
    },
    {
      "cell_type": "code",
      "source": [
        "A = tf.constant([2, 20, 30, 3, 6])\n",
        "tf.math.argmin(A)"
      ],
      "metadata": {
        "id": "9vDpI6sCKQm8",
        "colab": {
          "base_uri": "https://localhost:8080/"
        },
        "outputId": "2e7a2698-6a5f-4b5c-e369-e051691581e9"
      },
      "execution_count": 400,
      "outputs": [
        {
          "output_type": "execute_result",
          "data": {
            "text/plain": [
              "<tf.Tensor: shape=(), dtype=int64, numpy=0>"
            ]
          },
          "metadata": {},
          "execution_count": 400
        }
      ]
    },
    {
      "cell_type": "code",
      "source": [
        "t_argmin = tf.constant([\n",
        "  [3,1,9,6,5],\n",
        "  [0,1,7,3,2],\n",
        "  [1,5,1,2,0],\n",
        "  [7,3,0,9,0],\n",
        "\n",
        "])\n",
        "tf.math.argmin(t_argmin,axis=1)"
      ],
      "metadata": {
        "id": "fzQLqkg9KRUQ",
        "colab": {
          "base_uri": "https://localhost:8080/"
        },
        "outputId": "2d23442e-8b5b-443e-8665-f27949a8aeca"
      },
      "execution_count": 401,
      "outputs": [
        {
          "output_type": "execute_result",
          "data": {
            "text/plain": [
              "<tf.Tensor: shape=(4,), dtype=int64, numpy=array([1, 0, 4, 2])>"
            ]
          },
          "metadata": {},
          "execution_count": 401
        }
      ]
    },
    {
      "cell_type": "code",
      "source": [
        "x = tf.constant([[2, 2], [3, 3]])\n",
        "y = tf.constant([[0, 1], [2, 3]])\n",
        "tf.pow(x, y)  # [[256, 65536], [9, 27]]"
      ],
      "metadata": {
        "id": "aKMN0wo8KRdc",
        "colab": {
          "base_uri": "https://localhost:8080/"
        },
        "outputId": "6f5706e3-39be-4b11-e0cd-02ec40232939"
      },
      "execution_count": 402,
      "outputs": [
        {
          "output_type": "execute_result",
          "data": {
            "text/plain": [
              "<tf.Tensor: shape=(2, 2), dtype=int32, numpy=\n",
              "array([[ 1,  2],\n",
              "       [ 9, 27]], dtype=int32)>"
            ]
          },
          "metadata": {},
          "execution_count": 402
        }
      ]
    },
    {
      "cell_type": "code",
      "source": [
        "input_tensor = tf.constant([\n",
        "  [3,1,9,6,5],\n",
        "  [0,1,7,3,2],\n",
        "  [1,5,1,2,0],\n",
        "  [7,3,0,9,0],\n",
        "\n",
        "])\n",
        "print(tf.math.reduce_sum(\n",
        "    input_tensor, axis=1, keepdims=True,\n",
        "))\n"
      ],
      "metadata": {
        "id": "0fO1FqNxKRg6",
        "colab": {
          "base_uri": "https://localhost:8080/"
        },
        "outputId": "9ea98eb2-3270-4703-a556-d25f527c5e63"
      },
      "execution_count": 403,
      "outputs": [
        {
          "output_type": "stream",
          "name": "stdout",
          "text": [
            "tf.Tensor(\n",
            "[[24]\n",
            " [13]\n",
            " [ 9]\n",
            " [19]], shape=(4, 1), dtype=int32)\n"
          ]
        }
      ]
    },
    {
      "cell_type": "code",
      "source": [
        "result = tf.math.top_k([1, 2, 98, 1, 1, 99, 3, 1, 3, 96, 4, 1],\n",
        "                        k=1)\n",
        "print(result)"
      ],
      "metadata": {
        "colab": {
          "base_uri": "https://localhost:8080/"
        },
        "id": "0C845EfqYY_f",
        "outputId": "01f467de-60eb-49a8-9eed-3a47f34d4753"
      },
      "execution_count": 404,
      "outputs": [
        {
          "output_type": "stream",
          "name": "stdout",
          "text": [
            "TopKV2(values=<tf.Tensor: shape=(1,), dtype=int32, numpy=array([99], dtype=int32)>, indices=<tf.Tensor: shape=(1,), dtype=int32, numpy=array([5], dtype=int32)>)\n"
          ]
        }
      ]
    },
    {
      "cell_type": "code",
      "source": [
        "x = tf.constant([-50,-5e10, 1.0, 50.0, 100.0])\n",
        "tf.math.sigmoid(x)"
      ],
      "metadata": {
        "colab": {
          "base_uri": "https://localhost:8080/"
        },
        "id": "N1kvOBrTYZD4",
        "outputId": "9724c0b7-a2e8-4ee5-f0a5-fa56331d712c"
      },
      "execution_count": 405,
      "outputs": [
        {
          "output_type": "execute_result",
          "data": {
            "text/plain": [
              "<tf.Tensor: shape=(5,), dtype=float32, numpy=\n",
              "array([1.9287499e-22, 0.0000000e+00, 7.3105860e-01, 1.0000000e+00,\n",
              "       1.0000000e+00], dtype=float32)>"
            ]
          },
          "metadata": {},
          "execution_count": 405
        }
      ]
    },
    {
      "cell_type": "code",
      "source": [
        "a = tf.constant([\n",
        "  [1,5,1],\n",
        "  [7,3,0],\n",
        "\n",
        "])\n",
        "\n",
        "b = tf.constant([\n",
        "  [3,1],\n",
        "  [0,1],\n",
        "  [1,5],\n",
        "\n",
        "])\n",
        "print(a.shape, b.shape)\n",
        "print(tf.linalg.matmul(a,b))\n",
        "#print(a*b)"
      ],
      "metadata": {
        "colab": {
          "base_uri": "https://localhost:8080/"
        },
        "id": "tHzqH9UsYZGk",
        "outputId": "5ae06f91-9bce-46a8-f9f9-94b1447f10db"
      },
      "execution_count": 406,
      "outputs": [
        {
          "output_type": "stream",
          "name": "stdout",
          "text": [
            "(2, 3) (3, 2)\n",
            "tf.Tensor(\n",
            "[[ 4 11]\n",
            " [21 10]], shape=(2, 2), dtype=int32)\n"
          ]
        }
      ]
    },
    {
      "cell_type": "code",
      "source": [
        "a@b"
      ],
      "metadata": {
        "colab": {
          "base_uri": "https://localhost:8080/"
        },
        "id": "89tI14CkYZJr",
        "outputId": "bba11915-1c43-40dc-e2fa-86be9850bc12"
      },
      "execution_count": 407,
      "outputs": [
        {
          "output_type": "execute_result",
          "data": {
            "text/plain": [
              "<tf.Tensor: shape=(2, 2), dtype=int32, numpy=\n",
              "array([[ 4, 11],\n",
              "       [21, 10]], dtype=int32)>"
            ]
          },
          "metadata": {},
          "execution_count": 407
        }
      ]
    },
    {
      "cell_type": "code",
      "source": [
        "a = tf.constant([\n",
        "  [1,5,1],\n",
        "\n",
        "])\n",
        "print(a.shape,tf.transpose(a))"
      ],
      "metadata": {
        "colab": {
          "base_uri": "https://localhost:8080/"
        },
        "id": "rFNwjjSXYZM1",
        "outputId": "18bd2df6-c4bb-4d08-a67d-d866ac868ed1"
      },
      "execution_count": 408,
      "outputs": [
        {
          "output_type": "stream",
          "name": "stdout",
          "text": [
            "(1, 3) tf.Tensor(\n",
            "[[1]\n",
            " [5]\n",
            " [1]], shape=(3, 1), dtype=int32)\n"
          ]
        }
      ]
    },
    {
      "cell_type": "code",
      "source": [
        "a = tf.constant([\n",
        "  [1,5,1],\n",
        "])\n",
        "\n",
        "b = tf.constant([\n",
        "  [3,1],\n",
        "  [0,1],\n",
        "  [1,5],\n",
        "])\n",
        "\n",
        "print(a.shape, b.shape, tf.linalg.matrix_transpose(b).shape)"
      ],
      "metadata": {
        "colab": {
          "base_uri": "https://localhost:8080/"
        },
        "id": "9OhkGpmGYZQ1",
        "outputId": "a8524445-e354-422e-f925-f322b3fc6597"
      },
      "execution_count": 409,
      "outputs": [
        {
          "output_type": "stream",
          "name": "stdout",
          "text": [
            "(1, 3) (3, 2) (2, 3)\n"
          ]
        }
      ]
    },
    {
      "cell_type": "code",
      "source": [
        "a@b"
      ],
      "metadata": {
        "colab": {
          "base_uri": "https://localhost:8080/"
        },
        "id": "RjYO1UegYZTx",
        "outputId": "744349f1-9833-45dc-83db-e755cf3eee62"
      },
      "execution_count": 410,
      "outputs": [
        {
          "output_type": "execute_result",
          "data": {
            "text/plain": [
              "<tf.Tensor: shape=(1, 2), dtype=int32, numpy=array([[ 4, 11]], dtype=int32)>"
            ]
          },
          "metadata": {},
          "execution_count": 410
        }
      ]
    },
    {
      "cell_type": "code",
      "source": [
        "a = tf.constant(\n",
        "            [[[1,2],\n",
        "              [3,5]],\n",
        "\n",
        "            [[10,2],\n",
        "              [1,0]],\n",
        "\n",
        "            [[5,8],\n",
        "              [2,7]],\n",
        "\n",
        "            [[2,1],\n",
        "              [4,-3]]])\n",
        "\n",
        "\n",
        "b = tf.constant(\n",
        "            [[[1,2,0],\n",
        "              [3,5,-1]],\n",
        "\n",
        "            [[10,2,0],\n",
        "              [1,0,2]],\n",
        "\n",
        "            [[5,8,0],\n",
        "              [2,7,0]],\n",
        "\n",
        "            [[2,1,9],\n",
        "              [4,-3,32]]])\n"
      ],
      "metadata": {
        "id": "mvCzRBXFYZZV"
      },
      "execution_count": 411,
      "outputs": []
    },
    {
      "cell_type": "code",
      "source": [
        "print(a.shape,b.shape)"
      ],
      "metadata": {
        "colab": {
          "base_uri": "https://localhost:8080/"
        },
        "id": "cQ5lIcW44boh",
        "outputId": "04f8a4ff-c3ed-4054-9ca6-ddb73699aea1"
      },
      "execution_count": 412,
      "outputs": [
        {
          "output_type": "stream",
          "name": "stdout",
          "text": [
            "(4, 2, 2) (4, 2, 3)\n"
          ]
        }
      ]
    },
    {
      "cell_type": "code",
      "source": [
        "print(tf.linalg.matmul(a,b))"
      ],
      "metadata": {
        "colab": {
          "base_uri": "https://localhost:8080/"
        },
        "id": "h36qU69G4bsS",
        "outputId": "7e5a3ac4-3461-4671-f623-db70d77e1033"
      },
      "execution_count": 413,
      "outputs": [
        {
          "output_type": "stream",
          "name": "stdout",
          "text": [
            "tf.Tensor(\n",
            "[[[  7  12  -2]\n",
            "  [ 18  31  -5]]\n",
            "\n",
            " [[102  20   4]\n",
            "  [ 10   2   0]]\n",
            "\n",
            " [[ 41  96   0]\n",
            "  [ 24  65   0]]\n",
            "\n",
            " [[  8  -1  50]\n",
            "  [ -4  13 -60]]], shape=(4, 2, 3), dtype=int32)\n"
          ]
        }
      ]
    },
    {
      "cell_type": "code",
      "source": [
        "print(a[0],b[0])"
      ],
      "metadata": {
        "colab": {
          "base_uri": "https://localhost:8080/"
        },
        "id": "0dqvXjcf4bvV",
        "outputId": "d4a9eabe-c085-4d48-9dc6-3a51b1a29ead"
      },
      "execution_count": 414,
      "outputs": [
        {
          "output_type": "stream",
          "name": "stdout",
          "text": [
            "tf.Tensor(\n",
            "[[1 2]\n",
            " [3 5]], shape=(2, 2), dtype=int32) tf.Tensor(\n",
            "[[ 1  2  0]\n",
            " [ 3  5 -1]], shape=(2, 3), dtype=int32)\n"
          ]
        }
      ]
    },
    {
      "cell_type": "code",
      "source": [
        "a[2]@b[2]"
      ],
      "metadata": {
        "colab": {
          "base_uri": "https://localhost:8080/"
        },
        "id": "F5nMATiy4bzV",
        "outputId": "e06f22e4-a420-4f5b-e210-8b29d77162d8"
      },
      "execution_count": 415,
      "outputs": [
        {
          "output_type": "execute_result",
          "data": {
            "text/plain": [
              "<tf.Tensor: shape=(2, 3), dtype=int32, numpy=\n",
              "array([[41, 96,  0],\n",
              "       [24, 65,  0]], dtype=int32)>"
            ]
          },
          "metadata": {},
          "execution_count": 415
        }
      ]
    },
    {
      "cell_type": "code",
      "source": [
        "a = tf.constant([\n",
        "  [1,5,1],\n",
        "  [7,9,3],\n",
        "  [1,3,1],\n",
        "])\n",
        "m=n"
      ],
      "metadata": {
        "id": "fReGCEMs4b3O"
      },
      "execution_count": 416,
      "outputs": []
    },
    {
      "cell_type": "code",
      "source": [
        "print(a)\n",
        "print(tf.linalg.band_part(a, 0, -1))# ==> Upper triangular part.\n",
        "print(tf.linalg.band_part(a, -1, 0))# ==> Lower triangular part.\n",
        "print(tf.linalg.band_part(a, 0, 0))# ==> Diagonal."
      ],
      "metadata": {
        "colab": {
          "base_uri": "https://localhost:8080/"
        },
        "id": "Cwd8Fg-D4b6s",
        "outputId": "bd0a26cc-fb0e-48be-eca5-ee792ebe2af5"
      },
      "execution_count": 417,
      "outputs": [
        {
          "output_type": "stream",
          "name": "stdout",
          "text": [
            "tf.Tensor(\n",
            "[[1 5 1]\n",
            " [7 9 3]\n",
            " [1 3 1]], shape=(3, 3), dtype=int32)\n",
            "tf.Tensor(\n",
            "[[1 5 1]\n",
            " [0 9 3]\n",
            " [0 0 1]], shape=(3, 3), dtype=int32)\n",
            "tf.Tensor(\n",
            "[[1 0 0]\n",
            " [7 9 0]\n",
            " [1 3 1]], shape=(3, 3), dtype=int32)\n",
            "tf.Tensor(\n",
            "[[1 0 0]\n",
            " [0 9 0]\n",
            " [0 0 1]], shape=(3, 3), dtype=int32)\n"
          ]
        }
      ]
    },
    {
      "cell_type": "code",
      "source": [
        "a = tf.constant([\n",
        "    [2,6,5,2],\n",
        "    [2,-2,2,3],\n",
        "    [1,5,4,0]\n",
        "])\n",
        "b = tf.constant([\n",
        "    [2,9,0,3,0],\n",
        "    [3,6,8,-2,2],\n",
        "    [1,3,5,0,1],\n",
        "    [3,0,2,0,5]\n",
        "])\n",
        "c = tf.linalg.matmul(a,b)\n",
        "print(a.shape,b.shape)\n",
        "print(c.shape)\n",
        "print(c)"
      ],
      "metadata": {
        "colab": {
          "base_uri": "https://localhost:8080/"
        },
        "id": "TocnWviG4b9l",
        "outputId": "31fc3a81-5ce0-4b0e-8624-7efc03c9d5ec"
      },
      "execution_count": 418,
      "outputs": [
        {
          "output_type": "stream",
          "name": "stdout",
          "text": [
            "(3, 4) (4, 5)\n",
            "(3, 5)\n",
            "tf.Tensor(\n",
            "[[33 69 77 -6 27]\n",
            " [ 9 12  0 10 13]\n",
            " [21 51 60 -7 14]], shape=(3, 5), dtype=int32)\n"
          ]
        }
      ]
    },
    {
      "cell_type": "code",
      "source": [
        "tf.einsum(\"ij,jk->ik\",a,b)"
      ],
      "metadata": {
        "colab": {
          "base_uri": "https://localhost:8080/"
        },
        "id": "_8WhJPd94b_3",
        "outputId": "840a9b81-a9d2-416f-ba9f-1d2b98415ad4"
      },
      "execution_count": 419,
      "outputs": [
        {
          "output_type": "execute_result",
          "data": {
            "text/plain": [
              "<tf.Tensor: shape=(3, 5), dtype=int32, numpy=\n",
              "array([[33, 69, 77, -6, 27],\n",
              "       [ 9, 12,  0, 10, 13],\n",
              "       [21, 51, 60, -7, 14]], dtype=int32)>"
            ]
          },
          "metadata": {},
          "execution_count": 419
        }
      ]
    },
    {
      "cell_type": "code",
      "source": [
        "a = tf.constant([2,6,5,2])\n",
        "b = tf.constant([0,1,3,2])\n",
        "tf.einsum(\"i,j->\",a,b)"
      ],
      "metadata": {
        "colab": {
          "base_uri": "https://localhost:8080/"
        },
        "id": "gZnzB1gw4cCl",
        "outputId": "0497c939-8f7f-49a3-a897-9617f68b9b30"
      },
      "execution_count": 420,
      "outputs": [
        {
          "output_type": "execute_result",
          "data": {
            "text/plain": [
              "<tf.Tensor: shape=(), dtype=int32, numpy=90>"
            ]
          },
          "metadata": {},
          "execution_count": 420
        }
      ]
    },
    {
      "cell_type": "code",
      "source": [
        "a = tf.constant([2,6,5,2])\n",
        "b = tf.constant([0,1,3,2])\n",
        "c = tf.einsum(\"i,j->ij\",a,b)\n",
        "print(c)\n",
        "print(tf.reduce_sum(c))\n",
        "\n",
        "print(tf.einsum(\"i,j->\",a,b))"
      ],
      "metadata": {
        "colab": {
          "base_uri": "https://localhost:8080/"
        },
        "id": "X42d71_64cFO",
        "outputId": "878f80fa-cc65-44f8-e0e7-ad0a0b9e6770"
      },
      "execution_count": 421,
      "outputs": [
        {
          "output_type": "stream",
          "name": "stdout",
          "text": [
            "tf.Tensor(\n",
            "[[ 0  2  6  4]\n",
            " [ 0  6 18 12]\n",
            " [ 0  5 15 10]\n",
            " [ 0  2  6  4]], shape=(4, 4), dtype=int32)\n",
            "tf.Tensor(90, shape=(), dtype=int32)\n",
            "tf.Tensor(90, shape=(), dtype=int32)\n"
          ]
        }
      ]
    },
    {
      "cell_type": "code",
      "source": [
        "b = tf.constant([\n",
        "    [2,9,0,3,0],\n",
        "    [3,6,8,-2,2],\n",
        "    [1,3,5,0,1],\n",
        "    [3,0,2,0,5]\n",
        "])\n",
        "tf.einsum(\"ij->ji\",b)"
      ],
      "metadata": {
        "colab": {
          "base_uri": "https://localhost:8080/"
        },
        "id": "890kodadmoyv",
        "outputId": "0033d8ac-a688-4e5d-f793-dde884522c9c"
      },
      "execution_count": 422,
      "outputs": [
        {
          "output_type": "execute_result",
          "data": {
            "text/plain": [
              "<tf.Tensor: shape=(5, 4), dtype=int32, numpy=\n",
              "array([[ 2,  3,  1,  3],\n",
              "       [ 9,  6,  3,  0],\n",
              "       [ 0,  8,  5,  2],\n",
              "       [ 3, -2,  0,  0],\n",
              "       [ 0,  2,  1,  5]], dtype=int32)>"
            ]
          },
          "metadata": {},
          "execution_count": 422
        }
      ]
    },
    {
      "cell_type": "code",
      "source": [
        "a = tf.constant([\n",
        "    [2,6,5,2],\n",
        "    [2,-2,2,3],\n",
        "    [1,5,4,0]\n",
        "])\n",
        "b = tf.constant([\n",
        "    [2,9,0,3],\n",
        "    [3,6,8,-2],\n",
        "    [1,3,5,0],\n",
        "])\n",
        "tf.einsum(\"ij,ij->ij\",a,b)"
      ],
      "metadata": {
        "colab": {
          "base_uri": "https://localhost:8080/"
        },
        "id": "yEz7ZKgsmpD8",
        "outputId": "097d98bd-5f8a-4c2d-becb-d92deaaffd1a"
      },
      "execution_count": 423,
      "outputs": [
        {
          "output_type": "execute_result",
          "data": {
            "text/plain": [
              "<tf.Tensor: shape=(3, 4), dtype=int32, numpy=\n",
              "array([[  4,  54,   0,   6],\n",
              "       [  6, -12,  16,  -6],\n",
              "       [  1,  15,  20,   0]], dtype=int32)>"
            ]
          },
          "metadata": {},
          "execution_count": 423
        }
      ]
    },
    {
      "cell_type": "code",
      "source": [
        "a*b"
      ],
      "metadata": {
        "colab": {
          "base_uri": "https://localhost:8080/"
        },
        "id": "PIBOUalJmpJT",
        "outputId": "b65c0d74-8122-4616-b9ae-57c288cad2b9"
      },
      "execution_count": 424,
      "outputs": [
        {
          "output_type": "execute_result",
          "data": {
            "text/plain": [
              "<tf.Tensor: shape=(3, 4), dtype=int32, numpy=\n",
              "array([[  4,  54,   0,   6],\n",
              "       [  6, -12,  16,  -6],\n",
              "       [  1,  15,  20,   0]], dtype=int32)>"
            ]
          },
          "metadata": {},
          "execution_count": 424
        }
      ]
    },
    {
      "cell_type": "code",
      "source": [
        "a = tf.constant([\n",
        "\n",
        "    [[2,6,5,2],\n",
        "     [2,-2,2,3],\n",
        "     [1,5,4,0]],\n",
        "\n",
        "    [[2,6,5,2],\n",
        "     [2,-2,2,3],\n",
        "     [1,5,4,0]]\n",
        "    ])\n",
        "b = tf.constant([\n",
        "    [[2,9,0,3,0],\n",
        "     [3,6,8,-2,2],\n",
        "     [1,3,5,0,1],\n",
        "     [3,0,2,0,5]],\n",
        "\n",
        "    [[2,9,0,3,0],\n",
        "     [3,6,8,-2,2],\n",
        "     [1,3,5,0,1],\n",
        "     [3,0,2,0,5]]\n",
        "])"
      ],
      "metadata": {
        "id": "Ko4I74immpN8"
      },
      "execution_count": 425,
      "outputs": []
    },
    {
      "cell_type": "code",
      "source": [
        "print(a.shape,b.shape)"
      ],
      "metadata": {
        "colab": {
          "base_uri": "https://localhost:8080/"
        },
        "id": "896VxhWcs3a1",
        "outputId": "a015dd42-28ec-44fc-b457-89c0e6f1d902"
      },
      "execution_count": 426,
      "outputs": [
        {
          "output_type": "stream",
          "name": "stdout",
          "text": [
            "(2, 3, 4) (2, 4, 5)\n"
          ]
        }
      ]
    },
    {
      "cell_type": "code",
      "source": [
        "tf.einsum(\"bij,bjk->bik\",a,b)"
      ],
      "metadata": {
        "colab": {
          "base_uri": "https://localhost:8080/"
        },
        "id": "QmgmBaC1s3pd",
        "outputId": "4ea8f8df-87d3-4e99-ac9c-f93eb6dea4d1"
      },
      "execution_count": 427,
      "outputs": [
        {
          "output_type": "execute_result",
          "data": {
            "text/plain": [
              "<tf.Tensor: shape=(2, 3, 5), dtype=int32, numpy=\n",
              "array([[[33, 69, 77, -6, 27],\n",
              "        [ 9, 12,  0, 10, 13],\n",
              "        [21, 51, 60, -7, 14]],\n",
              "\n",
              "       [[33, 69, 77, -6, 27],\n",
              "        [ 9, 12,  0, 10, 13],\n",
              "        [21, 51, 60, -7, 14]]], dtype=int32)>"
            ]
          },
          "metadata": {},
          "execution_count": 427
        }
      ]
    },
    {
      "cell_type": "code",
      "source": [
        "a = tf.constant([\n",
        "\n",
        "    [[2,6,5,2],\n",
        "     [2,-2,2,3],\n",
        "     [1,5,4,0]],\n",
        "\n",
        "    [[2,6,5,2],\n",
        "     [2,-2,2,3],\n",
        "     [1,5,4,0]]\n",
        "    ])\n",
        "\n",
        "print(tf.linalg.matmul(a,a,transpose_b=True))\n",
        "print(a.shape)"
      ],
      "metadata": {
        "colab": {
          "base_uri": "https://localhost:8080/"
        },
        "id": "Y9JNLLA2vH7k",
        "outputId": "8c30e9d0-1e1c-4de9-d6ea-65c4b6f8668f"
      },
      "execution_count": 428,
      "outputs": [
        {
          "output_type": "stream",
          "name": "stdout",
          "text": [
            "tf.Tensor(\n",
            "[[[69  8 52]\n",
            "  [ 8 21  0]\n",
            "  [52  0 42]]\n",
            "\n",
            " [[69  8 52]\n",
            "  [ 8 21  0]\n",
            "  [52  0 42]]], shape=(2, 3, 3), dtype=int32)\n",
            "(2, 3, 4)\n"
          ]
        }
      ]
    },
    {
      "cell_type": "code",
      "source": [
        "a = tf.constant([1,3,4,5,6,7])\n",
        "print(a.shape)"
      ],
      "metadata": {
        "colab": {
          "base_uri": "https://localhost:8080/"
        },
        "id": "GKwNOc_kxhpT",
        "outputId": "07801a39-0007-4b26-9527-ccdaed0cb7c1"
      },
      "execution_count": 429,
      "outputs": [
        {
          "output_type": "stream",
          "name": "stdout",
          "text": [
            "(6,)\n"
          ]
        }
      ]
    },
    {
      "cell_type": "code",
      "source": [
        "tf.expand_dims(a,axis=0)"
      ],
      "metadata": {
        "colab": {
          "base_uri": "https://localhost:8080/"
        },
        "id": "2zYmank9b7lQ",
        "outputId": "905ea49d-c4e8-4b72-cbfb-9988b9d49be7"
      },
      "execution_count": 430,
      "outputs": [
        {
          "output_type": "execute_result",
          "data": {
            "text/plain": [
              "<tf.Tensor: shape=(1, 6), dtype=int32, numpy=array([[1, 3, 4, 5, 6, 7]], dtype=int32)>"
            ]
          },
          "metadata": {},
          "execution_count": 430
        }
      ]
    },
    {
      "cell_type": "code",
      "source": [
        "tf.expand_dims(a,axis=1)"
      ],
      "metadata": {
        "colab": {
          "base_uri": "https://localhost:8080/"
        },
        "id": "h2aE_JUsb7sZ",
        "outputId": "be13b009-d43e-4d00-8cab-0b2f90d6a167"
      },
      "execution_count": 431,
      "outputs": [
        {
          "output_type": "execute_result",
          "data": {
            "text/plain": [
              "<tf.Tensor: shape=(6, 1), dtype=int32, numpy=\n",
              "array([[1],\n",
              "       [3],\n",
              "       [4],\n",
              "       [5],\n",
              "       [6],\n",
              "       [7]], dtype=int32)>"
            ]
          },
          "metadata": {},
          "execution_count": 431
        }
      ]
    },
    {
      "cell_type": "code",
      "source": [
        "a = tf.constant([\n",
        "\n",
        "    [[2,6,5,2],\n",
        "     [2,-2,2,3],\n",
        "     [1,5,4,0]],\n",
        "\n",
        "    [[2,6,5,2],\n",
        "     [2,-2,2,3],\n",
        "     [1,5,4,0]]\n",
        "    ])\n",
        "print(a.shape)\n",
        "1,2,3,4"
      ],
      "metadata": {
        "colab": {
          "base_uri": "https://localhost:8080/"
        },
        "id": "crg-KMR2b7xh",
        "outputId": "2c03e4ca-d536-4cd2-d279-57cd060dd176"
      },
      "execution_count": 432,
      "outputs": [
        {
          "output_type": "stream",
          "name": "stdout",
          "text": [
            "(2, 3, 4)\n"
          ]
        },
        {
          "output_type": "execute_result",
          "data": {
            "text/plain": [
              "(1, 2, 3, 4)"
            ]
          },
          "metadata": {},
          "execution_count": 432
        }
      ]
    },
    {
      "cell_type": "code",
      "source": [
        "c = tf.expand_dims(a,axis=-1)\n",
        "print(c.shape)\n",
        "print(tf.squeeze(c,axis=-1))"
      ],
      "metadata": {
        "colab": {
          "base_uri": "https://localhost:8080/"
        },
        "id": "aqGYmVPzb70i",
        "outputId": "61ffec48-0577-42ab-cf2a-8e637e37f226"
      },
      "execution_count": 433,
      "outputs": [
        {
          "output_type": "stream",
          "name": "stdout",
          "text": [
            "(2, 3, 4, 1)\n",
            "tf.Tensor(\n",
            "[[[ 2  6  5  2]\n",
            "  [ 2 -2  2  3]\n",
            "  [ 1  5  4  0]]\n",
            "\n",
            " [[ 2  6  5  2]\n",
            "  [ 2 -2  2  3]\n",
            "  [ 1  5  4  0]]], shape=(2, 3, 4), dtype=int32)\n"
          ]
        }
      ]
    },
    {
      "cell_type": "code",
      "source": [
        "a = tf.constant([1,2,3,4,5,6,7,8,9])\n",
        "print(tf.reshape(a,[3,-1,1]))"
      ],
      "metadata": {
        "colab": {
          "base_uri": "https://localhost:8080/"
        },
        "id": "OYEIRhFCb75g",
        "outputId": "8cef60d7-e824-4035-cb18-5b48658e6139"
      },
      "execution_count": 434,
      "outputs": [
        {
          "output_type": "stream",
          "name": "stdout",
          "text": [
            "tf.Tensor(\n",
            "[[[1]\n",
            "  [2]\n",
            "  [3]]\n",
            "\n",
            " [[4]\n",
            "  [5]\n",
            "  [6]]\n",
            "\n",
            " [[7]\n",
            "  [8]\n",
            "  [9]]], shape=(3, 3, 1), dtype=int32)\n"
          ]
        }
      ]
    },
    {
      "cell_type": "code",
      "source": [
        "t1 = tf.constant(\n",
        "    [[1, 4, 3],\n",
        "      [2, 5, 6]])\n",
        "print(t1.shape)"
      ],
      "metadata": {
        "colab": {
          "base_uri": "https://localhost:8080/"
        },
        "id": "KqGBGyyWfe0T",
        "outputId": "8902b877-8af0-4e20-b0c6-bfdafe33c0fa"
      },
      "execution_count": 435,
      "outputs": [
        {
          "output_type": "stream",
          "name": "stdout",
          "text": [
            "(2, 3)\n"
          ]
        }
      ]
    },
    {
      "cell_type": "code",
      "source": [
        "tf.reshape(t1,[6])"
      ],
      "metadata": {
        "colab": {
          "base_uri": "https://localhost:8080/"
        },
        "id": "y3yI_qfWgB2y",
        "outputId": "e73e4ad5-1626-4392-965a-2f7fb6570ae1"
      },
      "execution_count": 436,
      "outputs": [
        {
          "output_type": "execute_result",
          "data": {
            "text/plain": [
              "<tf.Tensor: shape=(6,), dtype=int32, numpy=array([1, 4, 3, 2, 5, 6], dtype=int32)>"
            ]
          },
          "metadata": {},
          "execution_count": 436
        }
      ]
    },
    {
      "cell_type": "code",
      "source": [
        "t1 = tf.constant(\n",
        "    [[1, 2, 3],\n",
        "     [4, 5, 6]])\n",
        "\n",
        "t2 = tf.constant(\n",
        "    [[7, 8, 9],\n",
        "     [10, 11, 12]])\n",
        "print(t1.shape, t2.shape)"
      ],
      "metadata": {
        "colab": {
          "base_uri": "https://localhost:8080/"
        },
        "id": "DGig13_ygIpN",
        "outputId": "f2f9bb01-30a1-4f73-9994-7c11b4caee7a"
      },
      "execution_count": 437,
      "outputs": [
        {
          "output_type": "stream",
          "name": "stdout",
          "text": [
            "(2, 3) (2, 3)\n"
          ]
        }
      ]
    },
    {
      "cell_type": "code",
      "source": [
        "tf.concat([tf.expand_dims(t1,-1),\n",
        "          tf.expand_dims(t2,-1)],axis=-1)"
      ],
      "metadata": {
        "colab": {
          "base_uri": "https://localhost:8080/"
        },
        "id": "4C_WfYoG6-eL",
        "outputId": "1cdd3a6f-12c1-4a59-a76f-f5039daddb7d"
      },
      "execution_count": 438,
      "outputs": [
        {
          "output_type": "execute_result",
          "data": {
            "text/plain": [
              "<tf.Tensor: shape=(2, 3, 2), dtype=int32, numpy=\n",
              "array([[[ 1,  7],\n",
              "        [ 2,  8],\n",
              "        [ 3,  9]],\n",
              "\n",
              "       [[ 4, 10],\n",
              "        [ 5, 11],\n",
              "        [ 6, 12]]], dtype=int32)>"
            ]
          },
          "metadata": {},
          "execution_count": 438
        }
      ]
    },
    {
      "cell_type": "code",
      "source": [
        "tf.stack([t1,t2],axis=-1)"
      ],
      "metadata": {
        "colab": {
          "base_uri": "https://localhost:8080/"
        },
        "id": "V58hAdvw4z4K",
        "outputId": "501a9a4e-15b1-4060-dd49-8b9b8db08d22"
      },
      "execution_count": 439,
      "outputs": [
        {
          "output_type": "execute_result",
          "data": {
            "text/plain": [
              "<tf.Tensor: shape=(2, 3, 2), dtype=int32, numpy=\n",
              "array([[[ 1,  7],\n",
              "        [ 2,  8],\n",
              "        [ 3,  9]],\n",
              "\n",
              "       [[ 4, 10],\n",
              "        [ 5, 11],\n",
              "        [ 6, 12]]], dtype=int32)>"
            ]
          },
          "metadata": {},
          "execution_count": 439
        }
      ]
    },
    {
      "cell_type": "code",
      "source": [
        "tf.concat([t1,t2],axis=0)"
      ],
      "metadata": {
        "colab": {
          "base_uri": "https://localhost:8080/"
        },
        "id": "qvUfXn6A4VND",
        "outputId": "9d11c903-2038-4273-c0c7-85706ea56a83"
      },
      "execution_count": 440,
      "outputs": [
        {
          "output_type": "execute_result",
          "data": {
            "text/plain": [
              "<tf.Tensor: shape=(4, 3), dtype=int32, numpy=\n",
              "array([[ 1,  2,  3],\n",
              "       [ 4,  5,  6],\n",
              "       [ 7,  8,  9],\n",
              "       [10, 11, 12]], dtype=int32)>"
            ]
          },
          "metadata": {},
          "execution_count": 440
        }
      ]
    },
    {
      "cell_type": "code",
      "source": [
        "t1 = tf.constant([\n",
        "    [[1, 2],\n",
        "     [2, 3]],\n",
        "\n",
        "    [[4, 4],\n",
        "     [5, 3]]\n",
        "])\n",
        "t2 = tf.constant([\n",
        "    [[7, 4],\n",
        "     [8, 4]],\n",
        "\n",
        "    [[2, 10],\n",
        "     [15, 11]]\n",
        "])\n",
        "print(t1.shape,t2.shape)\n"
      ],
      "metadata": {
        "colab": {
          "base_uri": "https://localhost:8080/"
        },
        "id": "RRGcD-WG4VU-",
        "outputId": "8ef405f7-acb5-443a-cec8-4ae89e1d9a6e"
      },
      "execution_count": 441,
      "outputs": [
        {
          "output_type": "stream",
          "name": "stdout",
          "text": [
            "(2, 2, 2) (2, 2, 2)\n"
          ]
        }
      ]
    },
    {
      "cell_type": "code",
      "source": [
        "print(tf.concat([t1, t2], 0))"
      ],
      "metadata": {
        "colab": {
          "base_uri": "https://localhost:8080/"
        },
        "id": "fbkkVPA04Vag",
        "outputId": "97bf35a4-5628-4a58-eac3-2b3596e110b3"
      },
      "execution_count": 442,
      "outputs": [
        {
          "output_type": "stream",
          "name": "stdout",
          "text": [
            "tf.Tensor(\n",
            "[[[ 1  2]\n",
            "  [ 2  3]]\n",
            "\n",
            " [[ 4  4]\n",
            "  [ 5  3]]\n",
            "\n",
            " [[ 7  4]\n",
            "  [ 8  4]]\n",
            "\n",
            " [[ 2 10]\n",
            "  [15 11]]], shape=(4, 2, 2), dtype=int32)\n"
          ]
        }
      ]
    },
    {
      "cell_type": "code",
      "source": [
        "t = tf.constant([[1, 2, 3],\n",
        "                 [4, 5, 6]])\n",
        "paddings = tf.constant([[4, 1,],\n",
        "                        [2, 4]])\n",
        "# 'constant_values' is 0.\n",
        "# rank of 't' is 2.\n",
        "print(tf.pad(t, paddings, \"CONSTANT\", constant_values=9))"
      ],
      "metadata": {
        "colab": {
          "base_uri": "https://localhost:8080/"
        },
        "id": "WNgBF40i4Vd3",
        "outputId": "e1e3d34e-17b1-4217-f979-6732d70dd9ca"
      },
      "execution_count": 443,
      "outputs": [
        {
          "output_type": "stream",
          "name": "stdout",
          "text": [
            "tf.Tensor(\n",
            "[[9 9 9 9 9 9 9 9 9]\n",
            " [9 9 9 9 9 9 9 9 9]\n",
            " [9 9 9 9 9 9 9 9 9]\n",
            " [9 9 9 9 9 9 9 9 9]\n",
            " [9 9 1 2 3 9 9 9 9]\n",
            " [9 9 4 5 6 9 9 9 9]\n",
            " [9 9 9 9 9 9 9 9 9]], shape=(7, 9), dtype=int32)\n"
          ]
        }
      ]
    },
    {
      "cell_type": "code",
      "source": [
        "a = tf.constant([4,5,6,7])\n",
        "print(a[1:3])"
      ],
      "metadata": {
        "colab": {
          "base_uri": "https://localhost:8080/"
        },
        "id": "cpg_4OaO4ViQ",
        "outputId": "f1ebd7f5-3b01-46bb-92e2-720e49ed55a1"
      },
      "execution_count": 444,
      "outputs": [
        {
          "output_type": "stream",
          "name": "stdout",
          "text": [
            "tf.Tensor([5 6], shape=(2,), dtype=int32)\n"
          ]
        }
      ]
    },
    {
      "cell_type": "code",
      "source": [
        "tf.gather(a,[0,3,1],axis=0)"
      ],
      "metadata": {
        "colab": {
          "base_uri": "https://localhost:8080/"
        },
        "id": "Vy-Zk6Vf4VlH",
        "outputId": "d9b96d59-fa07-4453-d760-022f681fe6e2"
      },
      "execution_count": 445,
      "outputs": [
        {
          "output_type": "execute_result",
          "data": {
            "text/plain": [
              "<tf.Tensor: shape=(3,), dtype=int32, numpy=array([4, 7, 5], dtype=int32)>"
            ]
          },
          "metadata": {},
          "execution_count": 445
        }
      ]
    },
    {
      "cell_type": "code",
      "source": [
        "b = tf.constant([\n",
        "    [2,9,0,3,0],\n",
        "    [3,6,8,-2,2],\n",
        "    [1,3,5,0,1],\n",
        "    [3,0,2,0,5]\n",
        "])"
      ],
      "metadata": {
        "id": "Iu6AqSyV4Vot"
      },
      "execution_count": 446,
      "outputs": []
    },
    {
      "cell_type": "code",
      "source": [
        "tf.gather_nd(b,[[1],\n",
        "                [3]])"
      ],
      "metadata": {
        "colab": {
          "base_uri": "https://localhost:8080/"
        },
        "id": "HBQoZqRzPsxq",
        "outputId": "7b5dace4-864b-4bac-8763-28881003b30a"
      },
      "execution_count": 447,
      "outputs": [
        {
          "output_type": "execute_result",
          "data": {
            "text/plain": [
              "<tf.Tensor: shape=(2, 5), dtype=int32, numpy=\n",
              "array([[ 3,  6,  8, -2,  2],\n",
              "       [ 3,  0,  2,  0,  5]], dtype=int32)>"
            ]
          },
          "metadata": {},
          "execution_count": 447
        }
      ]
    },
    {
      "cell_type": "code",
      "source": [
        "tf.gather(b,[1,3],axis=0)"
      ],
      "metadata": {
        "colab": {
          "base_uri": "https://localhost:8080/"
        },
        "id": "GqDJNADn4VsD",
        "outputId": "5b97ab21-bc24-4ad0-c68e-0f6de8dd4222"
      },
      "execution_count": 448,
      "outputs": [
        {
          "output_type": "execute_result",
          "data": {
            "text/plain": [
              "<tf.Tensor: shape=(2, 5), dtype=int32, numpy=\n",
              "array([[ 3,  6,  8, -2,  2],\n",
              "       [ 3,  0,  2,  0,  5]], dtype=int32)>"
            ]
          },
          "metadata": {},
          "execution_count": 448
        }
      ]
    },
    {
      "cell_type": "code",
      "source": [
        "tf.gather(b,[[1,3],\n",
        "             [2,0]],axis=0)"
      ],
      "metadata": {
        "colab": {
          "base_uri": "https://localhost:8080/"
        },
        "id": "8D7WmvbKPsps",
        "outputId": "96c22104-1c1b-4a8a-9354-e1887774ad24"
      },
      "execution_count": 449,
      "outputs": [
        {
          "output_type": "execute_result",
          "data": {
            "text/plain": [
              "<tf.Tensor: shape=(2, 2, 5), dtype=int32, numpy=\n",
              "array([[[ 3,  6,  8, -2,  2],\n",
              "        [ 3,  0,  2,  0,  5]],\n",
              "\n",
              "       [[ 1,  3,  5,  0,  1],\n",
              "        [ 2,  9,  0,  3,  0]]], dtype=int32)>"
            ]
          },
          "metadata": {},
          "execution_count": 449
        }
      ]
    },
    {
      "cell_type": "code",
      "source": [
        "a = tf.ragged.constant([\n",
        "    [1,3],\n",
        "    [4,5,6],\n",
        "    [7]\n",
        "])\n",
        "print(a)"
      ],
      "metadata": {
        "id": "kYB5FJLFPs3V",
        "colab": {
          "base_uri": "https://localhost:8080/"
        },
        "outputId": "7cdc47f7-fb64-485b-ccc6-4ea902beb381"
      },
      "execution_count": 450,
      "outputs": [
        {
          "output_type": "stream",
          "name": "stdout",
          "text": [
            "<tf.RaggedTensor [[1, 3], [4, 5, 6], [7]]>\n"
          ]
        }
      ]
    },
    {
      "cell_type": "code",
      "source": [
        "tf.ragged.boolean_mask(  # Mask a 2D RaggedTensor.\n",
        "    tf.ragged.constant([[1, 2, 3], [4], [5, 6]]),\n",
        "    tf.ragged.constant([[False, False, True], [False], [True, True]])).to_list()"
      ],
      "metadata": {
        "id": "KtQvdMMrPs6_",
        "colab": {
          "base_uri": "https://localhost:8080/"
        },
        "outputId": "e6c1c139-888c-49b7-c299-5e496de19e22"
      },
      "execution_count": 451,
      "outputs": [
        {
          "output_type": "execute_result",
          "data": {
            "text/plain": [
              "[[3], [], [5, 6]]"
            ]
          },
          "metadata": {},
          "execution_count": 451
        }
      ]
    },
    {
      "cell_type": "code",
      "source": [
        "values = [3, 1, 4, 1, 5, 9, 2, 6,7]\n",
        "\n",
        "\n",
        "print(tf.RaggedTensor.from_uniform_row_length(values, uniform_row_length=3))\n"
      ],
      "metadata": {
        "id": "Sq82xXm4Ps-a",
        "colab": {
          "base_uri": "https://localhost:8080/"
        },
        "outputId": "1434c55e-208c-490a-e3fa-b93906d51ae7"
      },
      "execution_count": 452,
      "outputs": [
        {
          "output_type": "stream",
          "name": "stdout",
          "text": [
            "<tf.RaggedTensor [[3, 1, 4],\n",
            " [1, 5, 9],\n",
            " [2, 6, 7]]>\n"
          ]
        }
      ]
    },
    {
      "cell_type": "code",
      "source": [
        "sparse_tensor = tf.sparse.SparseTensor(\n",
        "    indices=[[0, 0],\n",
        "             [2, 5]], values=[5, 9], dense_shape=[5,6])"
      ],
      "metadata": {
        "id": "cTtoEwNmPtB_"
      },
      "execution_count": 453,
      "outputs": []
    },
    {
      "cell_type": "code",
      "source": [
        "sparse_tensor"
      ],
      "metadata": {
        "id": "DD-YptxXPtG-",
        "colab": {
          "base_uri": "https://localhost:8080/"
        },
        "outputId": "a6d5b8b9-de31-450d-e613-368969fd5384"
      },
      "execution_count": 454,
      "outputs": [
        {
          "output_type": "execute_result",
          "data": {
            "text/plain": [
              "SparseTensor(indices=tf.Tensor(\n",
              "[[0 0]\n",
              " [2 5]], shape=(2, 2), dtype=int64), values=tf.Tensor([5 9], shape=(2,), dtype=int32), dense_shape=tf.Tensor([5 6], shape=(2,), dtype=int64))"
            ]
          },
          "metadata": {},
          "execution_count": 454
        }
      ]
    },
    {
      "cell_type": "code",
      "source": [
        "tf.sparse.to_dense(sparse_tensor)"
      ],
      "metadata": {
        "id": "JHIM49gFPtLC",
        "colab": {
          "base_uri": "https://localhost:8080/"
        },
        "outputId": "f4a193f3-99dc-4697-89b8-d01dcadb5bbe"
      },
      "execution_count": 455,
      "outputs": [
        {
          "output_type": "execute_result",
          "data": {
            "text/plain": [
              "<tf.Tensor: shape=(5, 6), dtype=int32, numpy=\n",
              "array([[5, 0, 0, 0, 0, 0],\n",
              "       [0, 0, 0, 0, 0, 0],\n",
              "       [0, 0, 0, 0, 0, 9],\n",
              "       [0, 0, 0, 0, 0, 0],\n",
              "       [0, 0, 0, 0, 0, 0]], dtype=int32)>"
            ]
          },
          "metadata": {},
          "execution_count": 455
        }
      ]
    },
    {
      "cell_type": "code",
      "source": [
        "tensor_string_1 = tf.constant([\"i am \", \"a\", \"string\"])\n",
        "tensor_string_2 = tf.constant([\"i am \", \"not a\", \"string\"])"
      ],
      "metadata": {
        "id": "IOER_RBfPtOf"
      },
      "execution_count": 456,
      "outputs": []
    },
    {
      "cell_type": "code",
      "source": [
        "tf.strings.join([tensor_string_1,tensor_string_2], separator=\"+\")"
      ],
      "metadata": {
        "id": "f8thvAaUGuLW",
        "colab": {
          "base_uri": "https://localhost:8080/"
        },
        "outputId": "4b09f2b0-0a1d-49d3-c31a-c0543141661e"
      },
      "execution_count": 457,
      "outputs": [
        {
          "output_type": "execute_result",
          "data": {
            "text/plain": [
              "<tf.Tensor: shape=(3,), dtype=string, numpy=array([b'i am +i am ', b'a+not a', b'string+string'], dtype=object)>"
            ]
          },
          "metadata": {},
          "execution_count": 457
        }
      ]
    },
    {
      "cell_type": "code",
      "source": [
        "x = tf.constant([1,2,3,4,5])"
      ],
      "metadata": {
        "id": "tNeZ5lt7GuPM"
      },
      "execution_count": 458,
      "outputs": []
    },
    {
      "cell_type": "code",
      "source": [
        "x_var = tf.Variable(x)"
      ],
      "metadata": {
        "id": "FXf6-EmQGuSr"
      },
      "execution_count": 459,
      "outputs": []
    },
    {
      "cell_type": "code",
      "source": [
        "print(x,x_var)"
      ],
      "metadata": {
        "id": "qXiHGCb7GuWW",
        "colab": {
          "base_uri": "https://localhost:8080/"
        },
        "outputId": "fe5f4ab0-323e-44c0-bf48-d779b082335f"
      },
      "execution_count": 460,
      "outputs": [
        {
          "output_type": "stream",
          "name": "stdout",
          "text": [
            "tf.Tensor([1 2 3 4 5], shape=(5,), dtype=int32) <tf.Variable 'Variable:0' shape=(5,) dtype=int32, numpy=array([1, 2, 3, 4, 5], dtype=int32)>\n"
          ]
        }
      ]
    },
    {
      "cell_type": "code",
      "source": [
        "x_var.assign_sub([5,5,5,5,5])"
      ],
      "metadata": {
        "id": "wtxE9Bke4V1s",
        "colab": {
          "base_uri": "https://localhost:8080/"
        },
        "outputId": "82ef5ea2-2c0b-455a-a16f-756f208dbaa4"
      },
      "execution_count": 461,
      "outputs": [
        {
          "output_type": "execute_result",
          "data": {
            "text/plain": [
              "<tf.Variable 'UnreadVariable' shape=(5,) dtype=int32, numpy=array([-4, -3, -2, -1,  0], dtype=int32)>"
            ]
          },
          "metadata": {},
          "execution_count": 461
        }
      ]
    },
    {
      "cell_type": "code",
      "source": [
        "x_var.assign([5,5,5,5,5])"
      ],
      "metadata": {
        "id": "6nw0PQqS4V5N",
        "colab": {
          "base_uri": "https://localhost:8080/"
        },
        "outputId": "bc2800bc-577f-4ba9-bad8-996763550ddd"
      },
      "execution_count": 462,
      "outputs": [
        {
          "output_type": "execute_result",
          "data": {
            "text/plain": [
              "<tf.Variable 'UnreadVariable' shape=(5,) dtype=int32, numpy=array([5, 5, 5, 5, 5], dtype=int32)>"
            ]
          },
          "metadata": {},
          "execution_count": 462
        }
      ]
    }
  ]
}